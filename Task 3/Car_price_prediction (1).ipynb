{
 "cells": [
  {
   "cell_type": "code",
   "execution_count": 73,
   "metadata": {
    "id": "1tta4S9eF-_r"
   },
   "outputs": [],
   "source": [
    "import pandas as pd\n",
    "import numpy as np "
   ]
  },
  {
   "cell_type": "code",
   "execution_count": 74,
   "metadata": {
    "id": "J2lrg-xDGQ6a"
   },
   "outputs": [],
   "source": [
    "df = pd.read_csv('/content/drive/MyDrive/Car price prediction/CarPrice.csv')"
   ]
  },
  {
   "cell_type": "code",
   "execution_count": 75,
   "metadata": {
    "colab": {
     "base_uri": "https://localhost:8080/",
     "height": 557
    },
    "id": "G2WfewzjHHZI",
    "outputId": "b847497e-a489-40b8-f41a-2897c12fdd4a"
   },
   "outputs": [
    {
     "data": {
      "text/html": [
       "\n",
       "  <div id=\"df-fae902fc-d98e-4335-a80f-9a3616a230a9\">\n",
       "    <div class=\"colab-df-container\">\n",
       "      <div>\n",
       "<style scoped>\n",
       "    .dataframe tbody tr th:only-of-type {\n",
       "        vertical-align: middle;\n",
       "    }\n",
       "\n",
       "    .dataframe tbody tr th {\n",
       "        vertical-align: top;\n",
       "    }\n",
       "\n",
       "    .dataframe thead th {\n",
       "        text-align: right;\n",
       "    }\n",
       "</style>\n",
       "<table border=\"1\" class=\"dataframe\">\n",
       "  <thead>\n",
       "    <tr style=\"text-align: right;\">\n",
       "      <th></th>\n",
       "      <th>car_ID</th>\n",
       "      <th>symboling</th>\n",
       "      <th>CarName</th>\n",
       "      <th>fueltype</th>\n",
       "      <th>aspiration</th>\n",
       "      <th>doornumber</th>\n",
       "      <th>carbody</th>\n",
       "      <th>drivewheel</th>\n",
       "      <th>enginelocation</th>\n",
       "      <th>wheelbase</th>\n",
       "      <th>...</th>\n",
       "      <th>enginesize</th>\n",
       "      <th>fuelsystem</th>\n",
       "      <th>boreratio</th>\n",
       "      <th>stroke</th>\n",
       "      <th>compressionratio</th>\n",
       "      <th>horsepower</th>\n",
       "      <th>peakrpm</th>\n",
       "      <th>citympg</th>\n",
       "      <th>highwaympg</th>\n",
       "      <th>price</th>\n",
       "    </tr>\n",
       "  </thead>\n",
       "  <tbody>\n",
       "    <tr>\n",
       "      <th>0</th>\n",
       "      <td>1</td>\n",
       "      <td>3</td>\n",
       "      <td>alfa-romero giulia</td>\n",
       "      <td>gas</td>\n",
       "      <td>std</td>\n",
       "      <td>two</td>\n",
       "      <td>convertible</td>\n",
       "      <td>rwd</td>\n",
       "      <td>front</td>\n",
       "      <td>88.6</td>\n",
       "      <td>...</td>\n",
       "      <td>130</td>\n",
       "      <td>mpfi</td>\n",
       "      <td>3.47</td>\n",
       "      <td>2.68</td>\n",
       "      <td>9.0</td>\n",
       "      <td>111</td>\n",
       "      <td>5000</td>\n",
       "      <td>21</td>\n",
       "      <td>27</td>\n",
       "      <td>13495.0</td>\n",
       "    </tr>\n",
       "    <tr>\n",
       "      <th>1</th>\n",
       "      <td>2</td>\n",
       "      <td>3</td>\n",
       "      <td>alfa-romero stelvio</td>\n",
       "      <td>gas</td>\n",
       "      <td>std</td>\n",
       "      <td>two</td>\n",
       "      <td>convertible</td>\n",
       "      <td>rwd</td>\n",
       "      <td>front</td>\n",
       "      <td>88.6</td>\n",
       "      <td>...</td>\n",
       "      <td>130</td>\n",
       "      <td>mpfi</td>\n",
       "      <td>3.47</td>\n",
       "      <td>2.68</td>\n",
       "      <td>9.0</td>\n",
       "      <td>111</td>\n",
       "      <td>5000</td>\n",
       "      <td>21</td>\n",
       "      <td>27</td>\n",
       "      <td>16500.0</td>\n",
       "    </tr>\n",
       "    <tr>\n",
       "      <th>2</th>\n",
       "      <td>3</td>\n",
       "      <td>1</td>\n",
       "      <td>alfa-romero Quadrifoglio</td>\n",
       "      <td>gas</td>\n",
       "      <td>std</td>\n",
       "      <td>two</td>\n",
       "      <td>hatchback</td>\n",
       "      <td>rwd</td>\n",
       "      <td>front</td>\n",
       "      <td>94.5</td>\n",
       "      <td>...</td>\n",
       "      <td>152</td>\n",
       "      <td>mpfi</td>\n",
       "      <td>2.68</td>\n",
       "      <td>3.47</td>\n",
       "      <td>9.0</td>\n",
       "      <td>154</td>\n",
       "      <td>5000</td>\n",
       "      <td>19</td>\n",
       "      <td>26</td>\n",
       "      <td>16500.0</td>\n",
       "    </tr>\n",
       "    <tr>\n",
       "      <th>3</th>\n",
       "      <td>4</td>\n",
       "      <td>2</td>\n",
       "      <td>audi 100 ls</td>\n",
       "      <td>gas</td>\n",
       "      <td>std</td>\n",
       "      <td>four</td>\n",
       "      <td>sedan</td>\n",
       "      <td>fwd</td>\n",
       "      <td>front</td>\n",
       "      <td>99.8</td>\n",
       "      <td>...</td>\n",
       "      <td>109</td>\n",
       "      <td>mpfi</td>\n",
       "      <td>3.19</td>\n",
       "      <td>3.40</td>\n",
       "      <td>10.0</td>\n",
       "      <td>102</td>\n",
       "      <td>5500</td>\n",
       "      <td>24</td>\n",
       "      <td>30</td>\n",
       "      <td>13950.0</td>\n",
       "    </tr>\n",
       "    <tr>\n",
       "      <th>4</th>\n",
       "      <td>5</td>\n",
       "      <td>2</td>\n",
       "      <td>audi 100ls</td>\n",
       "      <td>gas</td>\n",
       "      <td>std</td>\n",
       "      <td>four</td>\n",
       "      <td>sedan</td>\n",
       "      <td>4wd</td>\n",
       "      <td>front</td>\n",
       "      <td>99.4</td>\n",
       "      <td>...</td>\n",
       "      <td>136</td>\n",
       "      <td>mpfi</td>\n",
       "      <td>3.19</td>\n",
       "      <td>3.40</td>\n",
       "      <td>8.0</td>\n",
       "      <td>115</td>\n",
       "      <td>5500</td>\n",
       "      <td>18</td>\n",
       "      <td>22</td>\n",
       "      <td>17450.0</td>\n",
       "    </tr>\n",
       "    <tr>\n",
       "      <th>...</th>\n",
       "      <td>...</td>\n",
       "      <td>...</td>\n",
       "      <td>...</td>\n",
       "      <td>...</td>\n",
       "      <td>...</td>\n",
       "      <td>...</td>\n",
       "      <td>...</td>\n",
       "      <td>...</td>\n",
       "      <td>...</td>\n",
       "      <td>...</td>\n",
       "      <td>...</td>\n",
       "      <td>...</td>\n",
       "      <td>...</td>\n",
       "      <td>...</td>\n",
       "      <td>...</td>\n",
       "      <td>...</td>\n",
       "      <td>...</td>\n",
       "      <td>...</td>\n",
       "      <td>...</td>\n",
       "      <td>...</td>\n",
       "      <td>...</td>\n",
       "    </tr>\n",
       "    <tr>\n",
       "      <th>200</th>\n",
       "      <td>201</td>\n",
       "      <td>-1</td>\n",
       "      <td>volvo 145e (sw)</td>\n",
       "      <td>gas</td>\n",
       "      <td>std</td>\n",
       "      <td>four</td>\n",
       "      <td>sedan</td>\n",
       "      <td>rwd</td>\n",
       "      <td>front</td>\n",
       "      <td>109.1</td>\n",
       "      <td>...</td>\n",
       "      <td>141</td>\n",
       "      <td>mpfi</td>\n",
       "      <td>3.78</td>\n",
       "      <td>3.15</td>\n",
       "      <td>9.5</td>\n",
       "      <td>114</td>\n",
       "      <td>5400</td>\n",
       "      <td>23</td>\n",
       "      <td>28</td>\n",
       "      <td>16845.0</td>\n",
       "    </tr>\n",
       "    <tr>\n",
       "      <th>201</th>\n",
       "      <td>202</td>\n",
       "      <td>-1</td>\n",
       "      <td>volvo 144ea</td>\n",
       "      <td>gas</td>\n",
       "      <td>turbo</td>\n",
       "      <td>four</td>\n",
       "      <td>sedan</td>\n",
       "      <td>rwd</td>\n",
       "      <td>front</td>\n",
       "      <td>109.1</td>\n",
       "      <td>...</td>\n",
       "      <td>141</td>\n",
       "      <td>mpfi</td>\n",
       "      <td>3.78</td>\n",
       "      <td>3.15</td>\n",
       "      <td>8.7</td>\n",
       "      <td>160</td>\n",
       "      <td>5300</td>\n",
       "      <td>19</td>\n",
       "      <td>25</td>\n",
       "      <td>19045.0</td>\n",
       "    </tr>\n",
       "    <tr>\n",
       "      <th>202</th>\n",
       "      <td>203</td>\n",
       "      <td>-1</td>\n",
       "      <td>volvo 244dl</td>\n",
       "      <td>gas</td>\n",
       "      <td>std</td>\n",
       "      <td>four</td>\n",
       "      <td>sedan</td>\n",
       "      <td>rwd</td>\n",
       "      <td>front</td>\n",
       "      <td>109.1</td>\n",
       "      <td>...</td>\n",
       "      <td>173</td>\n",
       "      <td>mpfi</td>\n",
       "      <td>3.58</td>\n",
       "      <td>2.87</td>\n",
       "      <td>8.8</td>\n",
       "      <td>134</td>\n",
       "      <td>5500</td>\n",
       "      <td>18</td>\n",
       "      <td>23</td>\n",
       "      <td>21485.0</td>\n",
       "    </tr>\n",
       "    <tr>\n",
       "      <th>203</th>\n",
       "      <td>204</td>\n",
       "      <td>-1</td>\n",
       "      <td>volvo 246</td>\n",
       "      <td>diesel</td>\n",
       "      <td>turbo</td>\n",
       "      <td>four</td>\n",
       "      <td>sedan</td>\n",
       "      <td>rwd</td>\n",
       "      <td>front</td>\n",
       "      <td>109.1</td>\n",
       "      <td>...</td>\n",
       "      <td>145</td>\n",
       "      <td>idi</td>\n",
       "      <td>3.01</td>\n",
       "      <td>3.40</td>\n",
       "      <td>23.0</td>\n",
       "      <td>106</td>\n",
       "      <td>4800</td>\n",
       "      <td>26</td>\n",
       "      <td>27</td>\n",
       "      <td>22470.0</td>\n",
       "    </tr>\n",
       "    <tr>\n",
       "      <th>204</th>\n",
       "      <td>205</td>\n",
       "      <td>-1</td>\n",
       "      <td>volvo 264gl</td>\n",
       "      <td>gas</td>\n",
       "      <td>turbo</td>\n",
       "      <td>four</td>\n",
       "      <td>sedan</td>\n",
       "      <td>rwd</td>\n",
       "      <td>front</td>\n",
       "      <td>109.1</td>\n",
       "      <td>...</td>\n",
       "      <td>141</td>\n",
       "      <td>mpfi</td>\n",
       "      <td>3.78</td>\n",
       "      <td>3.15</td>\n",
       "      <td>9.5</td>\n",
       "      <td>114</td>\n",
       "      <td>5400</td>\n",
       "      <td>19</td>\n",
       "      <td>25</td>\n",
       "      <td>22625.0</td>\n",
       "    </tr>\n",
       "  </tbody>\n",
       "</table>\n",
       "<p>205 rows × 26 columns</p>\n",
       "</div>\n",
       "      <button class=\"colab-df-convert\" onclick=\"convertToInteractive('df-fae902fc-d98e-4335-a80f-9a3616a230a9')\"\n",
       "              title=\"Convert this dataframe to an interactive table.\"\n",
       "              style=\"display:none;\">\n",
       "        \n",
       "  <svg xmlns=\"http://www.w3.org/2000/svg\" height=\"24px\"viewBox=\"0 0 24 24\"\n",
       "       width=\"24px\">\n",
       "    <path d=\"M0 0h24v24H0V0z\" fill=\"none\"/>\n",
       "    <path d=\"M18.56 5.44l.94 2.06.94-2.06 2.06-.94-2.06-.94-.94-2.06-.94 2.06-2.06.94zm-11 1L8.5 8.5l.94-2.06 2.06-.94-2.06-.94L8.5 2.5l-.94 2.06-2.06.94zm10 10l.94 2.06.94-2.06 2.06-.94-2.06-.94-.94-2.06-.94 2.06-2.06.94z\"/><path d=\"M17.41 7.96l-1.37-1.37c-.4-.4-.92-.59-1.43-.59-.52 0-1.04.2-1.43.59L10.3 9.45l-7.72 7.72c-.78.78-.78 2.05 0 2.83L4 21.41c.39.39.9.59 1.41.59.51 0 1.02-.2 1.41-.59l7.78-7.78 2.81-2.81c.8-.78.8-2.07 0-2.86zM5.41 20L4 18.59l7.72-7.72 1.47 1.35L5.41 20z\"/>\n",
       "  </svg>\n",
       "      </button>\n",
       "      \n",
       "  <style>\n",
       "    .colab-df-container {\n",
       "      display:flex;\n",
       "      flex-wrap:wrap;\n",
       "      gap: 12px;\n",
       "    }\n",
       "\n",
       "    .colab-df-convert {\n",
       "      background-color: #E8F0FE;\n",
       "      border: none;\n",
       "      border-radius: 50%;\n",
       "      cursor: pointer;\n",
       "      display: none;\n",
       "      fill: #1967D2;\n",
       "      height: 32px;\n",
       "      padding: 0 0 0 0;\n",
       "      width: 32px;\n",
       "    }\n",
       "\n",
       "    .colab-df-convert:hover {\n",
       "      background-color: #E2EBFA;\n",
       "      box-shadow: 0px 1px 2px rgba(60, 64, 67, 0.3), 0px 1px 3px 1px rgba(60, 64, 67, 0.15);\n",
       "      fill: #174EA6;\n",
       "    }\n",
       "\n",
       "    [theme=dark] .colab-df-convert {\n",
       "      background-color: #3B4455;\n",
       "      fill: #D2E3FC;\n",
       "    }\n",
       "\n",
       "    [theme=dark] .colab-df-convert:hover {\n",
       "      background-color: #434B5C;\n",
       "      box-shadow: 0px 1px 3px 1px rgba(0, 0, 0, 0.15);\n",
       "      filter: drop-shadow(0px 1px 2px rgba(0, 0, 0, 0.3));\n",
       "      fill: #FFFFFF;\n",
       "    }\n",
       "  </style>\n",
       "\n",
       "      <script>\n",
       "        const buttonEl =\n",
       "          document.querySelector('#df-fae902fc-d98e-4335-a80f-9a3616a230a9 button.colab-df-convert');\n",
       "        buttonEl.style.display =\n",
       "          google.colab.kernel.accessAllowed ? 'block' : 'none';\n",
       "\n",
       "        async function convertToInteractive(key) {\n",
       "          const element = document.querySelector('#df-fae902fc-d98e-4335-a80f-9a3616a230a9');\n",
       "          const dataTable =\n",
       "            await google.colab.kernel.invokeFunction('convertToInteractive',\n",
       "                                                     [key], {});\n",
       "          if (!dataTable) return;\n",
       "\n",
       "          const docLinkHtml = 'Like what you see? Visit the ' +\n",
       "            '<a target=\"_blank\" href=https://colab.research.google.com/notebooks/data_table.ipynb>data table notebook</a>'\n",
       "            + ' to learn more about interactive tables.';\n",
       "          element.innerHTML = '';\n",
       "          dataTable['output_type'] = 'display_data';\n",
       "          await google.colab.output.renderOutput(dataTable, element);\n",
       "          const docLink = document.createElement('div');\n",
       "          docLink.innerHTML = docLinkHtml;\n",
       "          element.appendChild(docLink);\n",
       "        }\n",
       "      </script>\n",
       "    </div>\n",
       "  </div>\n",
       "  "
      ],
      "text/plain": [
       "     car_ID  symboling                   CarName fueltype aspiration  \\\n",
       "0         1          3        alfa-romero giulia      gas        std   \n",
       "1         2          3       alfa-romero stelvio      gas        std   \n",
       "2         3          1  alfa-romero Quadrifoglio      gas        std   \n",
       "3         4          2               audi 100 ls      gas        std   \n",
       "4         5          2                audi 100ls      gas        std   \n",
       "..      ...        ...                       ...      ...        ...   \n",
       "200     201         -1           volvo 145e (sw)      gas        std   \n",
       "201     202         -1               volvo 144ea      gas      turbo   \n",
       "202     203         -1               volvo 244dl      gas        std   \n",
       "203     204         -1                 volvo 246   diesel      turbo   \n",
       "204     205         -1               volvo 264gl      gas      turbo   \n",
       "\n",
       "    doornumber      carbody drivewheel enginelocation  wheelbase  ...  \\\n",
       "0          two  convertible        rwd          front       88.6  ...   \n",
       "1          two  convertible        rwd          front       88.6  ...   \n",
       "2          two    hatchback        rwd          front       94.5  ...   \n",
       "3         four        sedan        fwd          front       99.8  ...   \n",
       "4         four        sedan        4wd          front       99.4  ...   \n",
       "..         ...          ...        ...            ...        ...  ...   \n",
       "200       four        sedan        rwd          front      109.1  ...   \n",
       "201       four        sedan        rwd          front      109.1  ...   \n",
       "202       four        sedan        rwd          front      109.1  ...   \n",
       "203       four        sedan        rwd          front      109.1  ...   \n",
       "204       four        sedan        rwd          front      109.1  ...   \n",
       "\n",
       "     enginesize  fuelsystem  boreratio  stroke compressionratio horsepower  \\\n",
       "0           130        mpfi       3.47    2.68              9.0        111   \n",
       "1           130        mpfi       3.47    2.68              9.0        111   \n",
       "2           152        mpfi       2.68    3.47              9.0        154   \n",
       "3           109        mpfi       3.19    3.40             10.0        102   \n",
       "4           136        mpfi       3.19    3.40              8.0        115   \n",
       "..          ...         ...        ...     ...              ...        ...   \n",
       "200         141        mpfi       3.78    3.15              9.5        114   \n",
       "201         141        mpfi       3.78    3.15              8.7        160   \n",
       "202         173        mpfi       3.58    2.87              8.8        134   \n",
       "203         145         idi       3.01    3.40             23.0        106   \n",
       "204         141        mpfi       3.78    3.15              9.5        114   \n",
       "\n",
       "     peakrpm citympg  highwaympg    price  \n",
       "0       5000      21          27  13495.0  \n",
       "1       5000      21          27  16500.0  \n",
       "2       5000      19          26  16500.0  \n",
       "3       5500      24          30  13950.0  \n",
       "4       5500      18          22  17450.0  \n",
       "..       ...     ...         ...      ...  \n",
       "200     5400      23          28  16845.0  \n",
       "201     5300      19          25  19045.0  \n",
       "202     5500      18          23  21485.0  \n",
       "203     4800      26          27  22470.0  \n",
       "204     5400      19          25  22625.0  \n",
       "\n",
       "[205 rows x 26 columns]"
      ]
     },
     "execution_count": 75,
     "metadata": {},
     "output_type": "execute_result"
    }
   ],
   "source": [
    "df"
   ]
  },
  {
   "cell_type": "markdown",
   "metadata": {
    "id": "fM8lI3gEbIwh"
   },
   "source": [
    "# Preprocessing"
   ]
  },
  {
   "cell_type": "code",
   "execution_count": 76,
   "metadata": {
    "colab": {
     "base_uri": "https://localhost:8080/"
    },
    "id": "O0r45glnHIbh",
    "outputId": "d8eac087-adb8-40d1-adc0-5f0bc7cdb2d9"
   },
   "outputs": [
    {
     "data": {
      "text/plain": [
       "(205, 26)"
      ]
     },
     "execution_count": 76,
     "metadata": {},
     "output_type": "execute_result"
    }
   ],
   "source": [
    "df.shape"
   ]
  },
  {
   "cell_type": "code",
   "execution_count": 77,
   "metadata": {
    "colab": {
     "base_uri": "https://localhost:8080/"
    },
    "id": "f-PlHyrMNsxh",
    "outputId": "3aaffa76-86a2-4df1-875c-98d7e0050bf7"
   },
   "outputs": [
    {
     "name": "stdout",
     "output_type": "stream",
     "text": [
      "<class 'pandas.core.frame.DataFrame'>\n",
      "RangeIndex: 205 entries, 0 to 204\n",
      "Data columns (total 26 columns):\n",
      " #   Column            Non-Null Count  Dtype  \n",
      "---  ------            --------------  -----  \n",
      " 0   car_ID            205 non-null    int64  \n",
      " 1   symboling         205 non-null    int64  \n",
      " 2   CarName           205 non-null    object \n",
      " 3   fueltype          205 non-null    object \n",
      " 4   aspiration        205 non-null    object \n",
      " 5   doornumber        205 non-null    object \n",
      " 6   carbody           205 non-null    object \n",
      " 7   drivewheel        205 non-null    object \n",
      " 8   enginelocation    205 non-null    object \n",
      " 9   wheelbase         205 non-null    float64\n",
      " 10  carlength         205 non-null    float64\n",
      " 11  carwidth          205 non-null    float64\n",
      " 12  carheight         205 non-null    float64\n",
      " 13  curbweight        205 non-null    int64  \n",
      " 14  enginetype        205 non-null    object \n",
      " 15  cylindernumber    205 non-null    object \n",
      " 16  enginesize        205 non-null    int64  \n",
      " 17  fuelsystem        205 non-null    object \n",
      " 18  boreratio         205 non-null    float64\n",
      " 19  stroke            205 non-null    float64\n",
      " 20  compressionratio  205 non-null    float64\n",
      " 21  horsepower        205 non-null    int64  \n",
      " 22  peakrpm           205 non-null    int64  \n",
      " 23  citympg           205 non-null    int64  \n",
      " 24  highwaympg        205 non-null    int64  \n",
      " 25  price             205 non-null    float64\n",
      "dtypes: float64(8), int64(8), object(10)\n",
      "memory usage: 41.8+ KB\n"
     ]
    }
   ],
   "source": [
    "df.info()"
   ]
  },
  {
   "cell_type": "code",
   "execution_count": 78,
   "metadata": {
    "colab": {
     "base_uri": "https://localhost:8080/"
    },
    "id": "laVyHuGMNuY-",
    "outputId": "59146531-f677-471f-d7c6-6c283db4b33f"
   },
   "outputs": [
    {
     "data": {
      "text/plain": [
       "car_ID              0\n",
       "symboling           0\n",
       "CarName             0\n",
       "fueltype            0\n",
       "aspiration          0\n",
       "doornumber          0\n",
       "carbody             0\n",
       "drivewheel          0\n",
       "enginelocation      0\n",
       "wheelbase           0\n",
       "carlength           0\n",
       "carwidth            0\n",
       "carheight           0\n",
       "curbweight          0\n",
       "enginetype          0\n",
       "cylindernumber      0\n",
       "enginesize          0\n",
       "fuelsystem          0\n",
       "boreratio           0\n",
       "stroke              0\n",
       "compressionratio    0\n",
       "horsepower          0\n",
       "peakrpm             0\n",
       "citympg             0\n",
       "highwaympg          0\n",
       "price               0\n",
       "dtype: int64"
      ]
     },
     "execution_count": 78,
     "metadata": {},
     "output_type": "execute_result"
    }
   ],
   "source": [
    "df.isnull().sum()"
   ]
  },
  {
   "cell_type": "markdown",
   "metadata": {
    "id": "G9ipd0FwbREm"
   },
   "source": [
    "## Finding the Correlation Matrix"
   ]
  },
  {
   "cell_type": "code",
   "execution_count": 79,
   "metadata": {
    "colab": {
     "base_uri": "https://localhost:8080/"
    },
    "id": "doVm5FhLOFeF",
    "outputId": "ad047182-2b37-4bb8-b84b-7f8e2bd2f656"
   },
   "outputs": [
    {
     "name": "stdout",
     "output_type": "stream",
     "text": [
      "                    car_ID  symboling  wheelbase  carlength  carwidth  \\\n",
      "car_ID            1.000000  -0.151621   0.129729   0.170636  0.052387   \n",
      "symboling        -0.151621   1.000000  -0.531954  -0.357612 -0.232919   \n",
      "wheelbase         0.129729  -0.531954   1.000000   0.874587  0.795144   \n",
      "carlength         0.170636  -0.357612   0.874587   1.000000  0.841118   \n",
      "carwidth          0.052387  -0.232919   0.795144   0.841118  1.000000   \n",
      "carheight         0.255960  -0.541038   0.589435   0.491029  0.279210   \n",
      "curbweight        0.071962  -0.227691   0.776386   0.877728  0.867032   \n",
      "enginesize       -0.033930  -0.105790   0.569329   0.683360  0.735433   \n",
      "boreratio         0.260064  -0.130051   0.488750   0.606454  0.559150   \n",
      "stroke           -0.160824  -0.008735   0.160959   0.129533  0.182942   \n",
      "compressionratio  0.150276  -0.178515   0.249786   0.158414  0.181129   \n",
      "horsepower       -0.015006   0.070873   0.353294   0.552623  0.640732   \n",
      "peakrpm          -0.203789   0.273606  -0.360469  -0.287242 -0.220012   \n",
      "citympg           0.015940  -0.035823  -0.470414  -0.670909 -0.642704   \n",
      "highwaympg        0.011255   0.034606  -0.544082  -0.704662 -0.677218   \n",
      "price            -0.109093  -0.079978   0.577816   0.682920  0.759325   \n",
      "\n",
      "                  carheight  curbweight  enginesize  boreratio    stroke  \\\n",
      "car_ID             0.255960    0.071962   -0.033930   0.260064 -0.160824   \n",
      "symboling         -0.541038   -0.227691   -0.105790  -0.130051 -0.008735   \n",
      "wheelbase          0.589435    0.776386    0.569329   0.488750  0.160959   \n",
      "carlength          0.491029    0.877728    0.683360   0.606454  0.129533   \n",
      "carwidth           0.279210    0.867032    0.735433   0.559150  0.182942   \n",
      "carheight          1.000000    0.295572    0.067149   0.171071 -0.055307   \n",
      "curbweight         0.295572    1.000000    0.850594   0.648480  0.168790   \n",
      "enginesize         0.067149    0.850594    1.000000   0.583774  0.203129   \n",
      "boreratio          0.171071    0.648480    0.583774   1.000000 -0.055909   \n",
      "stroke            -0.055307    0.168790    0.203129  -0.055909  1.000000   \n",
      "compressionratio   0.261214    0.151362    0.028971   0.005197  0.186110   \n",
      "horsepower        -0.108802    0.750739    0.809769   0.573677  0.080940   \n",
      "peakrpm           -0.320411   -0.266243   -0.244660  -0.254976 -0.067964   \n",
      "citympg           -0.048640   -0.757414   -0.653658  -0.584532 -0.042145   \n",
      "highwaympg        -0.107358   -0.797465   -0.677470  -0.587012 -0.043931   \n",
      "price              0.119336    0.835305    0.874145   0.553173  0.079443   \n",
      "\n",
      "                  compressionratio  horsepower   peakrpm   citympg  \\\n",
      "car_ID                    0.150276   -0.015006 -0.203789  0.015940   \n",
      "symboling                -0.178515    0.070873  0.273606 -0.035823   \n",
      "wheelbase                 0.249786    0.353294 -0.360469 -0.470414   \n",
      "carlength                 0.158414    0.552623 -0.287242 -0.670909   \n",
      "carwidth                  0.181129    0.640732 -0.220012 -0.642704   \n",
      "carheight                 0.261214   -0.108802 -0.320411 -0.048640   \n",
      "curbweight                0.151362    0.750739 -0.266243 -0.757414   \n",
      "enginesize                0.028971    0.809769 -0.244660 -0.653658   \n",
      "boreratio                 0.005197    0.573677 -0.254976 -0.584532   \n",
      "stroke                    0.186110    0.080940 -0.067964 -0.042145   \n",
      "compressionratio          1.000000   -0.204326 -0.435741  0.324701   \n",
      "horsepower               -0.204326    1.000000  0.131073 -0.801456   \n",
      "peakrpm                  -0.435741    0.131073  1.000000 -0.113544   \n",
      "citympg                   0.324701   -0.801456 -0.113544  1.000000   \n",
      "highwaympg                0.265201   -0.770544 -0.054275  0.971337   \n",
      "price                     0.067984    0.808139 -0.085267 -0.685751   \n",
      "\n",
      "                  highwaympg     price  \n",
      "car_ID              0.011255 -0.109093  \n",
      "symboling           0.034606 -0.079978  \n",
      "wheelbase          -0.544082  0.577816  \n",
      "carlength          -0.704662  0.682920  \n",
      "carwidth           -0.677218  0.759325  \n",
      "carheight          -0.107358  0.119336  \n",
      "curbweight         -0.797465  0.835305  \n",
      "enginesize         -0.677470  0.874145  \n",
      "boreratio          -0.587012  0.553173  \n",
      "stroke             -0.043931  0.079443  \n",
      "compressionratio    0.265201  0.067984  \n",
      "horsepower         -0.770544  0.808139  \n",
      "peakrpm            -0.054275 -0.085267  \n",
      "citympg             0.971337 -0.685751  \n",
      "highwaympg          1.000000 -0.697599  \n",
      "price              -0.697599  1.000000  \n"
     ]
    },
    {
     "name": "stderr",
     "output_type": "stream",
     "text": [
      "<ipython-input-79-aeed27ee170c>:1: FutureWarning: The default value of numeric_only in DataFrame.corr is deprecated. In a future version, it will default to False. Select only valid columns or specify the value of numeric_only to silence this warning.\n",
      "  corr_matrix = df.corr()\n"
     ]
    }
   ],
   "source": [
    "corr_matrix = df.corr()\n",
    "\n",
    "# print the correlation matrix\n",
    "print(corr_matrix)"
   ]
  },
  {
   "cell_type": "markdown",
   "metadata": {
    "id": "btSSZM4nbYFC"
   },
   "source": [
    "## Plotting the correlation matrix"
   ]
  },
  {
   "cell_type": "code",
   "execution_count": 80,
   "metadata": {
    "colab": {
     "base_uri": "https://localhost:8080/",
     "height": 997
    },
    "id": "o5aeFk8ZzhJu",
    "outputId": "82acb938-b5e8-472d-8453-7e4ce7c96c1a"
   },
   "outputs": [
    {
     "name": "stderr",
     "output_type": "stream",
     "text": [
      "<ipython-input-80-9346c6b748a9>:5: FutureWarning: The default value of numeric_only in DataFrame.corr is deprecated. In a future version, it will default to False. Select only valid columns or specify the value of numeric_only to silence this warning.\n",
      "  corr_matrix = df.corr()\n"
     ]
    },
    {
     "data": {
      "image/png": "[encoded data removed]",
      "text/plain": [
       "<Figure size 1200x1000 with 2 Axes>"
      ]
     },
     "metadata": {},
     "output_type": "display_data"
    }
   ],
   "source": [
    "import seaborn as sns\n",
    "import matplotlib.pyplot as plt\n",
    "\n",
    "# creating the correlation matrix\n",
    "corr_matrix = df.corr()\n",
    "\n",
    "# setting the figure size\n",
    "plt.figure(figsize=(12, 10))\n",
    "\n",
    "# heatmap\n",
    "sns.heatmap(corr_matrix, annot=True, cmap=\"YlGnBu\", fmt='.2f')\n",
    "\n",
    "plt.show()\n"
   ]
  },
  {
   "cell_type": "markdown",
   "metadata": {
    "id": "XPT5rOG3bc8e"
   },
   "source": [
    "## Selecting Important features which are related to the price of the cars"
   ]
  },
  {
   "cell_type": "code",
   "execution_count": 81,
   "metadata": {
    "colab": {
     "base_uri": "https://localhost:8080/"
    },
    "id": "KNerKw51zibY",
    "outputId": "957549b5-31f1-4f40-f8b0-7bbd68c25ec6"
   },
   "outputs": [
    {
     "name": "stdout",
     "output_type": "stream",
     "text": [
      "Index(['fueltype', 'aspiration', 'carbody', 'drivewheel', 'carwidth',\n",
      "       'curbweight', 'enginetype', 'cylindernumber'],\n",
      "      dtype='object')\n"
     ]
    }
   ],
   "source": [
    "# Selecting features with correlation coefficient >= 0.66 or <= -0.66\n",
    "selected_feature_indices = np.where((corr_matrix['price'] >= 0.66) | (corr_matrix['price'] <= -0.66))[0]\n",
    "selected_features = df.columns[selected_feature_indices]\n",
    "\n",
    "# Printing selected features\n",
    "print(selected_features)\n"
   ]
  },
  {
   "cell_type": "markdown",
   "metadata": {
    "id": "tV_rwbwYbkM8"
   },
   "source": [
    "## Final Selected Features"
   ]
  },
  {
   "cell_type": "code",
   "execution_count": 82,
   "metadata": {
    "id": "WqFDS3RP5_pY"
   },
   "outputs": [],
   "source": [
    "selected_features = ['fueltype', 'aspiration', 'carbody', 'drivewheel', 'carwidth',\n",
    "       'curbweight', 'enginetype', 'cylindernumber','price']"
   ]
  },
  {
   "cell_type": "code",
   "execution_count": 83,
   "metadata": {
    "id": "Gmv4k0SH6dqE"
   },
   "outputs": [],
   "source": [
    "final_df = df[selected_features]"
   ]
  },
  {
   "cell_type": "code",
   "execution_count": 84,
   "metadata": {
    "colab": {
     "base_uri": "https://localhost:8080/",
     "height": 423
    },
    "id": "l8ayphqq6iOQ",
    "outputId": "dd28414e-fa26-4eab-ea87-ddaa946785a4"
   },
   "outputs": [
    {
     "data": {
      "text/html": [
       "\n",
       "  <div id=\"df-0eaaca35-7304-45d9-a644-8907aaf96d03\">\n",
       "    <div class=\"colab-df-container\">\n",
       "      <div>\n",
       "<style scoped>\n",
       "    .dataframe tbody tr th:only-of-type {\n",
       "        vertical-align: middle;\n",
       "    }\n",
       "\n",
       "    .dataframe tbody tr th {\n",
       "        vertical-align: top;\n",
       "    }\n",
       "\n",
       "    .dataframe thead th {\n",
       "        text-align: right;\n",
       "    }\n",
       "</style>\n",
       "<table border=\"1\" class=\"dataframe\">\n",
       "  <thead>\n",
       "    <tr style=\"text-align: right;\">\n",
       "      <th></th>\n",
       "      <th>fueltype</th>\n",
       "      <th>aspiration</th>\n",
       "      <th>carbody</th>\n",
       "      <th>drivewheel</th>\n",
       "      <th>carwidth</th>\n",
       "      <th>curbweight</th>\n",
       "      <th>enginetype</th>\n",
       "      <th>cylindernumber</th>\n",
       "      <th>price</th>\n",
       "    </tr>\n",
       "  </thead>\n",
       "  <tbody>\n",
       "    <tr>\n",
       "      <th>0</th>\n",
       "      <td>gas</td>\n",
       "      <td>std</td>\n",
       "      <td>convertible</td>\n",
       "      <td>rwd</td>\n",
       "      <td>64.1</td>\n",
       "      <td>2548</td>\n",
       "      <td>dohc</td>\n",
       "      <td>four</td>\n",
       "      <td>13495.0</td>\n",
       "    </tr>\n",
       "    <tr>\n",
       "      <th>1</th>\n",
       "      <td>gas</td>\n",
       "      <td>std</td>\n",
       "      <td>convertible</td>\n",
       "      <td>rwd</td>\n",
       "      <td>64.1</td>\n",
       "      <td>2548</td>\n",
       "      <td>dohc</td>\n",
       "      <td>four</td>\n",
       "      <td>16500.0</td>\n",
       "    </tr>\n",
       "    <tr>\n",
       "      <th>2</th>\n",
       "      <td>gas</td>\n",
       "      <td>std</td>\n",
       "      <td>hatchback</td>\n",
       "      <td>rwd</td>\n",
       "      <td>65.5</td>\n",
       "      <td>2823</td>\n",
       "      <td>ohcv</td>\n",
       "      <td>six</td>\n",
       "      <td>16500.0</td>\n",
       "    </tr>\n",
       "    <tr>\n",
       "      <th>3</th>\n",
       "      <td>gas</td>\n",
       "      <td>std</td>\n",
       "      <td>sedan</td>\n",
       "      <td>fwd</td>\n",
       "      <td>66.2</td>\n",
       "      <td>2337</td>\n",
       "      <td>ohc</td>\n",
       "      <td>four</td>\n",
       "      <td>13950.0</td>\n",
       "    </tr>\n",
       "    <tr>\n",
       "      <th>4</th>\n",
       "      <td>gas</td>\n",
       "      <td>std</td>\n",
       "      <td>sedan</td>\n",
       "      <td>4wd</td>\n",
       "      <td>66.4</td>\n",
       "      <td>2824</td>\n",
       "      <td>ohc</td>\n",
       "      <td>five</td>\n",
       "      <td>17450.0</td>\n",
       "    </tr>\n",
       "    <tr>\n",
       "      <th>...</th>\n",
       "      <td>...</td>\n",
       "      <td>...</td>\n",
       "      <td>...</td>\n",
       "      <td>...</td>\n",
       "      <td>...</td>\n",
       "      <td>...</td>\n",
       "      <td>...</td>\n",
       "      <td>...</td>\n",
       "      <td>...</td>\n",
       "    </tr>\n",
       "    <tr>\n",
       "      <th>200</th>\n",
       "      <td>gas</td>\n",
       "      <td>std</td>\n",
       "      <td>sedan</td>\n",
       "      <td>rwd</td>\n",
       "      <td>68.9</td>\n",
       "      <td>2952</td>\n",
       "      <td>ohc</td>\n",
       "      <td>four</td>\n",
       "      <td>16845.0</td>\n",
       "    </tr>\n",
       "    <tr>\n",
       "      <th>201</th>\n",
       "      <td>gas</td>\n",
       "      <td>turbo</td>\n",
       "      <td>sedan</td>\n",
       "      <td>rwd</td>\n",
       "      <td>68.8</td>\n",
       "      <td>3049</td>\n",
       "      <td>ohc</td>\n",
       "      <td>four</td>\n",
       "      <td>19045.0</td>\n",
       "    </tr>\n",
       "    <tr>\n",
       "      <th>202</th>\n",
       "      <td>gas</td>\n",
       "      <td>std</td>\n",
       "      <td>sedan</td>\n",
       "      <td>rwd</td>\n",
       "      <td>68.9</td>\n",
       "      <td>3012</td>\n",
       "      <td>ohcv</td>\n",
       "      <td>six</td>\n",
       "      <td>21485.0</td>\n",
       "    </tr>\n",
       "    <tr>\n",
       "      <th>203</th>\n",
       "      <td>diesel</td>\n",
       "      <td>turbo</td>\n",
       "      <td>sedan</td>\n",
       "      <td>rwd</td>\n",
       "      <td>68.9</td>\n",
       "      <td>3217</td>\n",
       "      <td>ohc</td>\n",
       "      <td>six</td>\n",
       "      <td>22470.0</td>\n",
       "    </tr>\n",
       "    <tr>\n",
       "      <th>204</th>\n",
       "      <td>gas</td>\n",
       "      <td>turbo</td>\n",
       "      <td>sedan</td>\n",
       "      <td>rwd</td>\n",
       "      <td>68.9</td>\n",
       "      <td>3062</td>\n",
       "      <td>ohc</td>\n",
       "      <td>four</td>\n",
       "      <td>22625.0</td>\n",
       "    </tr>\n",
       "  </tbody>\n",
       "</table>\n",
       "<p>205 rows × 9 columns</p>\n",
       "</div>\n",
       "      <button class=\"colab-df-convert\" onclick=\"convertToInteractive('df-0eaaca35-7304-45d9-a644-8907aaf96d03')\"\n",
       "              title=\"Convert this dataframe to an interactive table.\"\n",
       "              style=\"display:none;\">\n",
       "        \n",
       "  <svg xmlns=\"http://www.w3.org/2000/svg\" height=\"24px\"viewBox=\"0 0 24 24\"\n",
       "       width=\"24px\">\n",
       "    <path d=\"M0 0h24v24H0V0z\" fill=\"none\"/>\n",
       "    <path d=\"M18.56 5.44l.94 2.06.94-2.06 2.06-.94-2.06-.94-.94-2.06-.94 2.06-2.06.94zm-11 1L8.5 8.5l.94-2.06 2.06-.94-2.06-.94L8.5 2.5l-.94 2.06-2.06.94zm10 10l.94 2.06.94-2.06 2.06-.94-2.06-.94-.94-2.06-.94 2.06-2.06.94z\"/><path d=\"M17.41 7.96l-1.37-1.37c-.4-.4-.92-.59-1.43-.59-.52 0-1.04.2-1.43.59L10.3 9.45l-7.72 7.72c-.78.78-.78 2.05 0 2.83L4 21.41c.39.39.9.59 1.41.59.51 0 1.02-.2 1.41-.59l7.78-7.78 2.81-2.81c.8-.78.8-2.07 0-2.86zM5.41 20L4 18.59l7.72-7.72 1.47 1.35L5.41 20z\"/>\n",
       "  </svg>\n",
       "      </button>\n",
       "      \n",
       "  <style>\n",
       "    .colab-df-container {\n",
       "      display:flex;\n",
       "      flex-wrap:wrap;\n",
       "      gap: 12px;\n",
       "    }\n",
       "\n",
       "    .colab-df-convert {\n",
       "      background-color: #E8F0FE;\n",
       "      border: none;\n",
       "      border-radius: 50%;\n",
       "      cursor: pointer;\n",
       "      display: none;\n",
       "      fill: #1967D2;\n",
       "      height: 32px;\n",
       "      padding: 0 0 0 0;\n",
       "      width: 32px;\n",
       "    }\n",
       "\n",
       "    .colab-df-convert:hover {\n",
       "      background-color: #E2EBFA;\n",
       "      box-shadow: 0px 1px 2px rgba(60, 64, 67, 0.3), 0px 1px 3px 1px rgba(60, 64, 67, 0.15);\n",
       "      fill: #174EA6;\n",
       "    }\n",
       "\n",
       "    [theme=dark] .colab-df-convert {\n",
       "      background-color: #3B4455;\n",
       "      fill: #D2E3FC;\n",
       "    }\n",
       "\n",
       "    [theme=dark] .colab-df-convert:hover {\n",
       "      background-color: #434B5C;\n",
       "      box-shadow: 0px 1px 3px 1px rgba(0, 0, 0, 0.15);\n",
       "      filter: drop-shadow(0px 1px 2px rgba(0, 0, 0, 0.3));\n",
       "      fill: #FFFFFF;\n",
       "    }\n",
       "  </style>\n",
       "\n",
       "      <script>\n",
       "        const buttonEl =\n",
       "          document.querySelector('#df-0eaaca35-7304-45d9-a644-8907aaf96d03 button.colab-df-convert');\n",
       "        buttonEl.style.display =\n",
       "          google.colab.kernel.accessAllowed ? 'block' : 'none';\n",
       "\n",
       "        async function convertToInteractive(key) {\n",
       "          const element = document.querySelector('#df-0eaaca35-7304-45d9-a644-8907aaf96d03');\n",
       "          const dataTable =\n",
       "            await google.colab.kernel.invokeFunction('convertToInteractive',\n",
       "                                                     [key], {});\n",
       "          if (!dataTable) return;\n",
       "\n",
       "          const docLinkHtml = 'Like what you see? Visit the ' +\n",
       "            '<a target=\"_blank\" href=https://colab.research.google.com/notebooks/data_table.ipynb>data table notebook</a>'\n",
       "            + ' to learn more about interactive tables.';\n",
       "          element.innerHTML = '';\n",
       "          dataTable['output_type'] = 'display_data';\n",
       "          await google.colab.output.renderOutput(dataTable, element);\n",
       "          const docLink = document.createElement('div');\n",
       "          docLink.innerHTML = docLinkHtml;\n",
       "          element.appendChild(docLink);\n",
       "        }\n",
       "      </script>\n",
       "    </div>\n",
       "  </div>\n",
       "  "
      ],
      "text/plain": [
       "    fueltype aspiration      carbody drivewheel  carwidth  curbweight  \\\n",
       "0        gas        std  convertible        rwd      64.1        2548   \n",
       "1        gas        std  convertible        rwd      64.1        2548   \n",
       "2        gas        std    hatchback        rwd      65.5        2823   \n",
       "3        gas        std        sedan        fwd      66.2        2337   \n",
       "4        gas        std        sedan        4wd      66.4        2824   \n",
       "..       ...        ...          ...        ...       ...         ...   \n",
       "200      gas        std        sedan        rwd      68.9        2952   \n",
       "201      gas      turbo        sedan        rwd      68.8        3049   \n",
       "202      gas        std        sedan        rwd      68.9        3012   \n",
       "203   diesel      turbo        sedan        rwd      68.9        3217   \n",
       "204      gas      turbo        sedan        rwd      68.9        3062   \n",
       "\n",
       "    enginetype cylindernumber    price  \n",
       "0         dohc           four  13495.0  \n",
       "1         dohc           four  16500.0  \n",
       "2         ohcv            six  16500.0  \n",
       "3          ohc           four  13950.0  \n",
       "4          ohc           five  17450.0  \n",
       "..         ...            ...      ...  \n",
       "200        ohc           four  16845.0  \n",
       "201        ohc           four  19045.0  \n",
       "202       ohcv            six  21485.0  \n",
       "203        ohc            six  22470.0  \n",
       "204        ohc           four  22625.0  \n",
       "\n",
       "[205 rows x 9 columns]"
      ]
     },
     "execution_count": 84,
     "metadata": {},
     "output_type": "execute_result"
    }
   ],
   "source": [
    "final_df"
   ]
  },
  {
   "cell_type": "code",
   "execution_count": 85,
   "metadata": {
    "colab": {
     "base_uri": "https://localhost:8080/"
    },
    "id": "FaycgT1r6jw8",
    "outputId": "7195b496-638e-4af8-d0e6-49355c071c62"
   },
   "outputs": [
    {
     "name": "stdout",
     "output_type": "stream",
     "text": [
      "gas       185\n",
      "diesel     20\n",
      "Name: fueltype, dtype: int64\n",
      "std      168\n",
      "turbo     37\n",
      "Name: aspiration, dtype: int64\n",
      "sedan          96\n",
      "hatchback      70\n",
      "wagon          25\n",
      "hardtop         8\n",
      "convertible     6\n",
      "Name: carbody, dtype: int64\n",
      "fwd    120\n",
      "rwd     76\n",
      "4wd      9\n",
      "Name: drivewheel, dtype: int64\n",
      "ohc      148\n",
      "ohcf      15\n",
      "ohcv      13\n",
      "dohc      12\n",
      "l         12\n",
      "rotor      4\n",
      "dohcv      1\n",
      "Name: enginetype, dtype: int64\n",
      "four      159\n",
      "six        24\n",
      "five       11\n",
      "eight       5\n",
      "two         4\n",
      "three       1\n",
      "twelve      1\n",
      "Name: cylindernumber, dtype: int64\n"
     ]
    }
   ],
   "source": [
    "print(final_df.fueltype.value_counts())\n",
    "print(final_df.aspiration.value_counts())\n",
    "print(final_df.carbody.value_counts())\n",
    "print(final_df.drivewheel.value_counts())\n",
    "print(final_df.enginetype.value_counts())\n",
    "print(final_df.cylindernumber.value_counts())"
   ]
  },
  {
   "cell_type": "markdown",
   "metadata": {
    "id": "uUOWwgNobph1"
   },
   "source": [
    "## Replacing the object datatypes with the integer"
   ]
  },
  {
   "cell_type": "code",
   "execution_count": 86,
   "metadata": {
    "colab": {
     "base_uri": "https://localhost:8080/"
    },
    "id": "AZ64b8wd7GJZ",
    "outputId": "f94850b5-54f4-4471-d1c9-d706770b8071"
   },
   "outputs": [
    {
     "name": "stderr",
     "output_type": "stream",
     "text": [
      "<ipython-input-86-03fd2cf19328>:1: SettingWithCopyWarning: \n",
      "A value is trying to be set on a copy of a slice from a DataFrame.\n",
      "Try using .loc[row_indexer,col_indexer] = value instead\n",
      "\n",
      "See the caveats in the documentation: https://pandas.pydata.org/pandas-docs/stable/user_guide/indexing.html#returning-a-view-versus-a-copy\n",
      "  final_df.replace({'fueltype':{'gas':0, 'diesel':1}},inplace = True)\n",
      "<ipython-input-86-03fd2cf19328>:2: SettingWithCopyWarning: \n",
      "A value is trying to be set on a copy of a slice from a DataFrame.\n",
      "Try using .loc[row_indexer,col_indexer] = value instead\n",
      "\n",
      "See the caveats in the documentation: https://pandas.pydata.org/pandas-docs/stable/user_guide/indexing.html#returning-a-view-versus-a-copy\n",
      "  final_df.replace({'aspiration':{'std':0, 'turbo':1}},inplace = True)\n",
      "<ipython-input-86-03fd2cf19328>:3: SettingWithCopyWarning: \n",
      "A value is trying to be set on a copy of a slice from a DataFrame.\n",
      "Try using .loc[row_indexer,col_indexer] = value instead\n",
      "\n",
      "See the caveats in the documentation: https://pandas.pydata.org/pandas-docs/stable/user_guide/indexing.html#returning-a-view-versus-a-copy\n",
      "  final_df.replace({'carbody':{'sedan':0, 'hatchback':1,'wagon':2,'hardtop':3,'convertible':4}},inplace = True)\n",
      "<ipython-input-86-03fd2cf19328>:4: SettingWithCopyWarning: \n",
      "A value is trying to be set on a copy of a slice from a DataFrame.\n",
      "Try using .loc[row_indexer,col_indexer] = value instead\n",
      "\n",
      "See the caveats in the documentation: https://pandas.pydata.org/pandas-docs/stable/user_guide/indexing.html#returning-a-view-versus-a-copy\n",
      "  final_df.replace({'drivewheel':{'fwd':0, 'rwd':1,'4wd':2}},inplace = True)\n",
      "<ipython-input-86-03fd2cf19328>:5: SettingWithCopyWarning: \n",
      "A value is trying to be set on a copy of a slice from a DataFrame.\n",
      "Try using .loc[row_indexer,col_indexer] = value instead\n",
      "\n",
      "See the caveats in the documentation: https://pandas.pydata.org/pandas-docs/stable/user_guide/indexing.html#returning-a-view-versus-a-copy\n",
      "  final_df.replace({'enginetype':{'ohc':0, 'ohcf':1,'ohcv':2, 'dohc':3,'l':4, 'rotor':5,'dohcv':6}},inplace = True)\n",
      "<ipython-input-86-03fd2cf19328>:6: SettingWithCopyWarning: \n",
      "A value is trying to be set on a copy of a slice from a DataFrame.\n",
      "Try using .loc[row_indexer,col_indexer] = value instead\n",
      "\n",
      "See the caveats in the documentation: https://pandas.pydata.org/pandas-docs/stable/user_guide/indexing.html#returning-a-view-versus-a-copy\n",
      "  final_df.replace({'cylindernumber':{'four':0, 'six':1,'five':2, 'eight':3,'two':4, 'three':5,'twelve':6}},inplace = True)\n"
     ]
    }
   ],
   "source": [
    "final_df.replace({'fueltype':{'gas':0, 'diesel':1}},inplace = True)\n",
    "final_df.replace({'aspiration':{'std':0, 'turbo':1}},inplace = True)\n",
    "final_df.replace({'carbody':{'sedan':0, 'hatchback':1,'wagon':2,'hardtop':3,'convertible':4}},inplace = True)\n",
    "final_df.replace({'drivewheel':{'fwd':0, 'rwd':1,'4wd':2}},inplace = True)\n",
    "final_df.replace({'enginetype':{'ohc':0, 'ohcf':1,'ohcv':2, 'dohc':3,'l':4, 'rotor':5,'dohcv':6}},inplace = True)\n",
    "final_df.replace({'cylindernumber':{'four':0, 'six':1,'five':2, 'eight':3,'two':4, 'three':5,'twelve':6}},inplace = True)"
   ]
  },
  {
   "cell_type": "code",
   "execution_count": 87,
   "metadata": {
    "colab": {
     "base_uri": "https://localhost:8080/",
     "height": 423
    },
    "id": "aJw1XeJY-_Wf",
    "outputId": "3e7459e5-09d2-4e36-80d5-693a186a1a23"
   },
   "outputs": [
    {
     "data": {
      "text/html": [
       "\n",
       "  <div id=\"df-1317a1df-b682-4ea9-9c90-42d13564d160\">\n",
       "    <div class=\"colab-df-container\">\n",
       "      <div>\n",
       "<style scoped>\n",
       "    .dataframe tbody tr th:only-of-type {\n",
       "        vertical-align: middle;\n",
       "    }\n",
       "\n",
       "    .dataframe tbody tr th {\n",
       "        vertical-align: top;\n",
       "    }\n",
       "\n",
       "    .dataframe thead th {\n",
       "        text-align: right;\n",
       "    }\n",
       "</style>\n",
       "<table border=\"1\" class=\"dataframe\">\n",
       "  <thead>\n",
       "    <tr style=\"text-align: right;\">\n",
       "      <th></th>\n",
       "      <th>fueltype</th>\n",
       "      <th>aspiration</th>\n",
       "      <th>carbody</th>\n",
       "      <th>drivewheel</th>\n",
       "      <th>carwidth</th>\n",
       "      <th>curbweight</th>\n",
       "      <th>enginetype</th>\n",
       "      <th>cylindernumber</th>\n",
       "      <th>price</th>\n",
       "    </tr>\n",
       "  </thead>\n",
       "  <tbody>\n",
       "    <tr>\n",
       "      <th>0</th>\n",
       "      <td>0</td>\n",
       "      <td>0</td>\n",
       "      <td>4</td>\n",
       "      <td>1</td>\n",
       "      <td>64.1</td>\n",
       "      <td>2548</td>\n",
       "      <td>3</td>\n",
       "      <td>0</td>\n",
       "      <td>13495.0</td>\n",
       "    </tr>\n",
       "    <tr>\n",
       "      <th>1</th>\n",
       "      <td>0</td>\n",
       "      <td>0</td>\n",
       "      <td>4</td>\n",
       "      <td>1</td>\n",
       "      <td>64.1</td>\n",
       "      <td>2548</td>\n",
       "      <td>3</td>\n",
       "      <td>0</td>\n",
       "      <td>16500.0</td>\n",
       "    </tr>\n",
       "    <tr>\n",
       "      <th>2</th>\n",
       "      <td>0</td>\n",
       "      <td>0</td>\n",
       "      <td>1</td>\n",
       "      <td>1</td>\n",
       "      <td>65.5</td>\n",
       "      <td>2823</td>\n",
       "      <td>2</td>\n",
       "      <td>1</td>\n",
       "      <td>16500.0</td>\n",
       "    </tr>\n",
       "    <tr>\n",
       "      <th>3</th>\n",
       "      <td>0</td>\n",
       "      <td>0</td>\n",
       "      <td>0</td>\n",
       "      <td>0</td>\n",
       "      <td>66.2</td>\n",
       "      <td>2337</td>\n",
       "      <td>0</td>\n",
       "      <td>0</td>\n",
       "      <td>13950.0</td>\n",
       "    </tr>\n",
       "    <tr>\n",
       "      <th>4</th>\n",
       "      <td>0</td>\n",
       "      <td>0</td>\n",
       "      <td>0</td>\n",
       "      <td>2</td>\n",
       "      <td>66.4</td>\n",
       "      <td>2824</td>\n",
       "      <td>0</td>\n",
       "      <td>2</td>\n",
       "      <td>17450.0</td>\n",
       "    </tr>\n",
       "    <tr>\n",
       "      <th>...</th>\n",
       "      <td>...</td>\n",
       "      <td>...</td>\n",
       "      <td>...</td>\n",
       "      <td>...</td>\n",
       "      <td>...</td>\n",
       "      <td>...</td>\n",
       "      <td>...</td>\n",
       "      <td>...</td>\n",
       "      <td>...</td>\n",
       "    </tr>\n",
       "    <tr>\n",
       "      <th>200</th>\n",
       "      <td>0</td>\n",
       "      <td>0</td>\n",
       "      <td>0</td>\n",
       "      <td>1</td>\n",
       "      <td>68.9</td>\n",
       "      <td>2952</td>\n",
       "      <td>0</td>\n",
       "      <td>0</td>\n",
       "      <td>16845.0</td>\n",
       "    </tr>\n",
       "    <tr>\n",
       "      <th>201</th>\n",
       "      <td>0</td>\n",
       "      <td>1</td>\n",
       "      <td>0</td>\n",
       "      <td>1</td>\n",
       "      <td>68.8</td>\n",
       "      <td>3049</td>\n",
       "      <td>0</td>\n",
       "      <td>0</td>\n",
       "      <td>19045.0</td>\n",
       "    </tr>\n",
       "    <tr>\n",
       "      <th>202</th>\n",
       "      <td>0</td>\n",
       "      <td>0</td>\n",
       "      <td>0</td>\n",
       "      <td>1</td>\n",
       "      <td>68.9</td>\n",
       "      <td>3012</td>\n",
       "      <td>2</td>\n",
       "      <td>1</td>\n",
       "      <td>21485.0</td>\n",
       "    </tr>\n",
       "    <tr>\n",
       "      <th>203</th>\n",
       "      <td>1</td>\n",
       "      <td>1</td>\n",
       "      <td>0</td>\n",
       "      <td>1</td>\n",
       "      <td>68.9</td>\n",
       "      <td>3217</td>\n",
       "      <td>0</td>\n",
       "      <td>1</td>\n",
       "      <td>22470.0</td>\n",
       "    </tr>\n",
       "    <tr>\n",
       "      <th>204</th>\n",
       "      <td>0</td>\n",
       "      <td>1</td>\n",
       "      <td>0</td>\n",
       "      <td>1</td>\n",
       "      <td>68.9</td>\n",
       "      <td>3062</td>\n",
       "      <td>0</td>\n",
       "      <td>0</td>\n",
       "      <td>22625.0</td>\n",
       "    </tr>\n",
       "  </tbody>\n",
       "</table>\n",
       "<p>205 rows × 9 columns</p>\n",
       "</div>\n",
       "      <button class=\"colab-df-convert\" onclick=\"convertToInteractive('df-1317a1df-b682-4ea9-9c90-42d13564d160')\"\n",
       "              title=\"Convert this dataframe to an interactive table.\"\n",
       "              style=\"display:none;\">\n",
       "        \n",
       "  <svg xmlns=\"http://www.w3.org/2000/svg\" height=\"24px\"viewBox=\"0 0 24 24\"\n",
       "       width=\"24px\">\n",
       "    <path d=\"M0 0h24v24H0V0z\" fill=\"none\"/>\n",
       "    <path d=\"M18.56 5.44l.94 2.06.94-2.06 2.06-.94-2.06-.94-.94-2.06-.94 2.06-2.06.94zm-11 1L8.5 8.5l.94-2.06 2.06-.94-2.06-.94L8.5 2.5l-.94 2.06-2.06.94zm10 10l.94 2.06.94-2.06 2.06-.94-2.06-.94-.94-2.06-.94 2.06-2.06.94z\"/><path d=\"M17.41 7.96l-1.37-1.37c-.4-.4-.92-.59-1.43-.59-.52 0-1.04.2-1.43.59L10.3 9.45l-7.72 7.72c-.78.78-.78 2.05 0 2.83L4 21.41c.39.39.9.59 1.41.59.51 0 1.02-.2 1.41-.59l7.78-7.78 2.81-2.81c.8-.78.8-2.07 0-2.86zM5.41 20L4 18.59l7.72-7.72 1.47 1.35L5.41 20z\"/>\n",
       "  </svg>\n",
       "      </button>\n",
       "      \n",
       "  <style>\n",
       "    .colab-df-container {\n",
       "      display:flex;\n",
       "      flex-wrap:wrap;\n",
       "      gap: 12px;\n",
       "    }\n",
       "\n",
       "    .colab-df-convert {\n",
       "      background-color: #E8F0FE;\n",
       "      border: none;\n",
       "      border-radius: 50%;\n",
       "      cursor: pointer;\n",
       "      display: none;\n",
       "      fill: #1967D2;\n",
       "      height: 32px;\n",
       "      padding: 0 0 0 0;\n",
       "      width: 32px;\n",
       "    }\n",
       "\n",
       "    .colab-df-convert:hover {\n",
       "      background-color: #E2EBFA;\n",
       "      box-shadow: 0px 1px 2px rgba(60, 64, 67, 0.3), 0px 1px 3px 1px rgba(60, 64, 67, 0.15);\n",
       "      fill: #174EA6;\n",
       "    }\n",
       "\n",
       "    [theme=dark] .colab-df-convert {\n",
       "      background-color: #3B4455;\n",
       "      fill: #D2E3FC;\n",
       "    }\n",
       "\n",
       "    [theme=dark] .colab-df-convert:hover {\n",
       "      background-color: #434B5C;\n",
       "      box-shadow: 0px 1px 3px 1px rgba(0, 0, 0, 0.15);\n",
       "      filter: drop-shadow(0px 1px 2px rgba(0, 0, 0, 0.3));\n",
       "      fill: #FFFFFF;\n",
       "    }\n",
       "  </style>\n",
       "\n",
       "      <script>\n",
       "        const buttonEl =\n",
       "          document.querySelector('#df-1317a1df-b682-4ea9-9c90-42d13564d160 button.colab-df-convert');\n",
       "        buttonEl.style.display =\n",
       "          google.colab.kernel.accessAllowed ? 'block' : 'none';\n",
       "\n",
       "        async function convertToInteractive(key) {\n",
       "          const element = document.querySelector('#df-1317a1df-b682-4ea9-9c90-42d13564d160');\n",
       "          const dataTable =\n",
       "            await google.colab.kernel.invokeFunction('convertToInteractive',\n",
       "                                                     [key], {});\n",
       "          if (!dataTable) return;\n",
       "\n",
       "          const docLinkHtml = 'Like what you see? Visit the ' +\n",
       "            '<a target=\"_blank\" href=https://colab.research.google.com/notebooks/data_table.ipynb>data table notebook</a>'\n",
       "            + ' to learn more about interactive tables.';\n",
       "          element.innerHTML = '';\n",
       "          dataTable['output_type'] = 'display_data';\n",
       "          await google.colab.output.renderOutput(dataTable, element);\n",
       "          const docLink = document.createElement('div');\n",
       "          docLink.innerHTML = docLinkHtml;\n",
       "          element.appendChild(docLink);\n",
       "        }\n",
       "      </script>\n",
       "    </div>\n",
       "  </div>\n",
       "  "
      ],
      "text/plain": [
       "     fueltype  aspiration  carbody  drivewheel  carwidth  curbweight  \\\n",
       "0           0           0        4           1      64.1        2548   \n",
       "1           0           0        4           1      64.1        2548   \n",
       "2           0           0        1           1      65.5        2823   \n",
       "3           0           0        0           0      66.2        2337   \n",
       "4           0           0        0           2      66.4        2824   \n",
       "..        ...         ...      ...         ...       ...         ...   \n",
       "200         0           0        0           1      68.9        2952   \n",
       "201         0           1        0           1      68.8        3049   \n",
       "202         0           0        0           1      68.9        3012   \n",
       "203         1           1        0           1      68.9        3217   \n",
       "204         0           1        0           1      68.9        3062   \n",
       "\n",
       "     enginetype  cylindernumber    price  \n",
       "0             3               0  13495.0  \n",
       "1             3               0  16500.0  \n",
       "2             2               1  16500.0  \n",
       "3             0               0  13950.0  \n",
       "4             0               2  17450.0  \n",
       "..          ...             ...      ...  \n",
       "200           0               0  16845.0  \n",
       "201           0               0  19045.0  \n",
       "202           2               1  21485.0  \n",
       "203           0               1  22470.0  \n",
       "204           0               0  22625.0  \n",
       "\n",
       "[205 rows x 9 columns]"
      ]
     },
     "execution_count": 87,
     "metadata": {},
     "output_type": "execute_result"
    }
   ],
   "source": [
    "final_df"
   ]
  },
  {
   "cell_type": "markdown",
   "metadata": {
    "id": "iOT2Nkipbv4r"
   },
   "source": [
    "# MODEL TRAINING and TESTING"
   ]
  },
  {
   "cell_type": "code",
   "execution_count": 88,
   "metadata": {
    "id": "iHYMeZeQBzU2"
   },
   "outputs": [],
   "source": [
    "from sklearn.model_selection import train_test_split, cross_val_score\n",
    "from sklearn.ensemble import RandomForestClassifier"
   ]
  },
  {
   "cell_type": "code",
   "execution_count": 89,
   "metadata": {
    "id": "a6o9sNlKCSlv"
   },
   "outputs": [],
   "source": [
    "X = final_df[['fueltype','aspiration','carbody','drivewheel','carwidth','curbweight','enginetype','cylindernumber']]\n",
    "y = final_df['price']"
   ]
  },
  {
   "cell_type": "code",
   "execution_count": 90,
   "metadata": {
    "colab": {
     "base_uri": "https://localhost:8080/",
     "height": 423
    },
    "id": "bOTzvGjzCpn1",
    "outputId": "836a0d21-4dc2-4bb4-8ebf-84f82afb5bda"
   },
   "outputs": [
    {
     "data": {
      "text/html": [
       "\n",
       "  <div id=\"df-5e5c8394-dd83-42d9-8b95-73e7eec5cdb5\">\n",
       "    <div class=\"colab-df-container\">\n",
       "      <div>\n",
       "<style scoped>\n",
       "    .dataframe tbody tr th:only-of-type {\n",
       "        vertical-align: middle;\n",
       "    }\n",
       "\n",
       "    .dataframe tbody tr th {\n",
       "        vertical-align: top;\n",
       "    }\n",
       "\n",
       "    .dataframe thead th {\n",
       "        text-align: right;\n",
       "    }\n",
       "</style>\n",
       "<table border=\"1\" class=\"dataframe\">\n",
       "  <thead>\n",
       "    <tr style=\"text-align: right;\">\n",
       "      <th></th>\n",
       "      <th>fueltype</th>\n",
       "      <th>aspiration</th>\n",
       "      <th>carbody</th>\n",
       "      <th>drivewheel</th>\n",
       "      <th>carwidth</th>\n",
       "      <th>curbweight</th>\n",
       "      <th>enginetype</th>\n",
       "      <th>cylindernumber</th>\n",
       "    </tr>\n",
       "  </thead>\n",
       "  <tbody>\n",
       "    <tr>\n",
       "      <th>0</th>\n",
       "      <td>0</td>\n",
       "      <td>0</td>\n",
       "      <td>4</td>\n",
       "      <td>1</td>\n",
       "      <td>64.1</td>\n",
       "      <td>2548</td>\n",
       "      <td>3</td>\n",
       "      <td>0</td>\n",
       "    </tr>\n",
       "    <tr>\n",
       "      <th>1</th>\n",
       "      <td>0</td>\n",
       "      <td>0</td>\n",
       "      <td>4</td>\n",
       "      <td>1</td>\n",
       "      <td>64.1</td>\n",
       "      <td>2548</td>\n",
       "      <td>3</td>\n",
       "      <td>0</td>\n",
       "    </tr>\n",
       "    <tr>\n",
       "      <th>2</th>\n",
       "      <td>0</td>\n",
       "      <td>0</td>\n",
       "      <td>1</td>\n",
       "      <td>1</td>\n",
       "      <td>65.5</td>\n",
       "      <td>2823</td>\n",
       "      <td>2</td>\n",
       "      <td>1</td>\n",
       "    </tr>\n",
       "    <tr>\n",
       "      <th>3</th>\n",
       "      <td>0</td>\n",
       "      <td>0</td>\n",
       "      <td>0</td>\n",
       "      <td>0</td>\n",
       "      <td>66.2</td>\n",
       "      <td>2337</td>\n",
       "      <td>0</td>\n",
       "      <td>0</td>\n",
       "    </tr>\n",
       "    <tr>\n",
       "      <th>4</th>\n",
       "      <td>0</td>\n",
       "      <td>0</td>\n",
       "      <td>0</td>\n",
       "      <td>2</td>\n",
       "      <td>66.4</td>\n",
       "      <td>2824</td>\n",
       "      <td>0</td>\n",
       "      <td>2</td>\n",
       "    </tr>\n",
       "    <tr>\n",
       "      <th>...</th>\n",
       "      <td>...</td>\n",
       "      <td>...</td>\n",
       "      <td>...</td>\n",
       "      <td>...</td>\n",
       "      <td>...</td>\n",
       "      <td>...</td>\n",
       "      <td>...</td>\n",
       "      <td>...</td>\n",
       "    </tr>\n",
       "    <tr>\n",
       "      <th>200</th>\n",
       "      <td>0</td>\n",
       "      <td>0</td>\n",
       "      <td>0</td>\n",
       "      <td>1</td>\n",
       "      <td>68.9</td>\n",
       "      <td>2952</td>\n",
       "      <td>0</td>\n",
       "      <td>0</td>\n",
       "    </tr>\n",
       "    <tr>\n",
       "      <th>201</th>\n",
       "      <td>0</td>\n",
       "      <td>1</td>\n",
       "      <td>0</td>\n",
       "      <td>1</td>\n",
       "      <td>68.8</td>\n",
       "      <td>3049</td>\n",
       "      <td>0</td>\n",
       "      <td>0</td>\n",
       "    </tr>\n",
       "    <tr>\n",
       "      <th>202</th>\n",
       "      <td>0</td>\n",
       "      <td>0</td>\n",
       "      <td>0</td>\n",
       "      <td>1</td>\n",
       "      <td>68.9</td>\n",
       "      <td>3012</td>\n",
       "      <td>2</td>\n",
       "      <td>1</td>\n",
       "    </tr>\n",
       "    <tr>\n",
       "      <th>203</th>\n",
       "      <td>1</td>\n",
       "      <td>1</td>\n",
       "      <td>0</td>\n",
       "      <td>1</td>\n",
       "      <td>68.9</td>\n",
       "      <td>3217</td>\n",
       "      <td>0</td>\n",
       "      <td>1</td>\n",
       "    </tr>\n",
       "    <tr>\n",
       "      <th>204</th>\n",
       "      <td>0</td>\n",
       "      <td>1</td>\n",
       "      <td>0</td>\n",
       "      <td>1</td>\n",
       "      <td>68.9</td>\n",
       "      <td>3062</td>\n",
       "      <td>0</td>\n",
       "      <td>0</td>\n",
       "    </tr>\n",
       "  </tbody>\n",
       "</table>\n",
       "<p>205 rows × 8 columns</p>\n",
       "</div>\n",
       "      <button class=\"colab-df-convert\" onclick=\"convertToInteractive('df-5e5c8394-dd83-42d9-8b95-73e7eec5cdb5')\"\n",
       "              title=\"Convert this dataframe to an interactive table.\"\n",
       "              style=\"display:none;\">\n",
       "        \n",
       "  <svg xmlns=\"http://www.w3.org/2000/svg\" height=\"24px\"viewBox=\"0 0 24 24\"\n",
       "       width=\"24px\">\n",
       "    <path d=\"M0 0h24v24H0V0z\" fill=\"none\"/>\n",
       "    <path d=\"M18.56 5.44l.94 2.06.94-2.06 2.06-.94-2.06-.94-.94-2.06-.94 2.06-2.06.94zm-11 1L8.5 8.5l.94-2.06 2.06-.94-2.06-.94L8.5 2.5l-.94 2.06-2.06.94zm10 10l.94 2.06.94-2.06 2.06-.94-2.06-.94-.94-2.06-.94 2.06-2.06.94z\"/><path d=\"M17.41 7.96l-1.37-1.37c-.4-.4-.92-.59-1.43-.59-.52 0-1.04.2-1.43.59L10.3 9.45l-7.72 7.72c-.78.78-.78 2.05 0 2.83L4 21.41c.39.39.9.59 1.41.59.51 0 1.02-.2 1.41-.59l7.78-7.78 2.81-2.81c.8-.78.8-2.07 0-2.86zM5.41 20L4 18.59l7.72-7.72 1.47 1.35L5.41 20z\"/>\n",
       "  </svg>\n",
       "      </button>\n",
       "      \n",
       "  <style>\n",
       "    .colab-df-container {\n",
       "      display:flex;\n",
       "      flex-wrap:wrap;\n",
       "      gap: 12px;\n",
       "    }\n",
       "\n",
       "    .colab-df-convert {\n",
       "      background-color: #E8F0FE;\n",
       "      border: none;\n",
       "      border-radius: 50%;\n",
       "      cursor: pointer;\n",
       "      display: none;\n",
       "      fill: #1967D2;\n",
       "      height: 32px;\n",
       "      padding: 0 0 0 0;\n",
       "      width: 32px;\n",
       "    }\n",
       "\n",
       "    .colab-df-convert:hover {\n",
       "      background-color: #E2EBFA;\n",
       "      box-shadow: 0px 1px 2px rgba(60, 64, 67, 0.3), 0px 1px 3px 1px rgba(60, 64, 67, 0.15);\n",
       "      fill: #174EA6;\n",
       "    }\n",
       "\n",
       "    [theme=dark] .colab-df-convert {\n",
       "      background-color: #3B4455;\n",
       "      fill: #D2E3FC;\n",
       "    }\n",
       "\n",
       "    [theme=dark] .colab-df-convert:hover {\n",
       "      background-color: #434B5C;\n",
       "      box-shadow: 0px 1px 3px 1px rgba(0, 0, 0, 0.15);\n",
       "      filter: drop-shadow(0px 1px 2px rgba(0, 0, 0, 0.3));\n",
       "      fill: #FFFFFF;\n",
       "    }\n",
       "  </style>\n",
       "\n",
       "      <script>\n",
       "        const buttonEl =\n",
       "          document.querySelector('#df-5e5c8394-dd83-42d9-8b95-73e7eec5cdb5 button.colab-df-convert');\n",
       "        buttonEl.style.display =\n",
       "          google.colab.kernel.accessAllowed ? 'block' : 'none';\n",
       "\n",
       "        async function convertToInteractive(key) {\n",
       "          const element = document.querySelector('#df-5e5c8394-dd83-42d9-8b95-73e7eec5cdb5');\n",
       "          const dataTable =\n",
       "            await google.colab.kernel.invokeFunction('convertToInteractive',\n",
       "                                                     [key], {});\n",
       "          if (!dataTable) return;\n",
       "\n",
       "          const docLinkHtml = 'Like what you see? Visit the ' +\n",
       "            '<a target=\"_blank\" href=https://colab.research.google.com/notebooks/data_table.ipynb>data table notebook</a>'\n",
       "            + ' to learn more about interactive tables.';\n",
       "          element.innerHTML = '';\n",
       "          dataTable['output_type'] = 'display_data';\n",
       "          await google.colab.output.renderOutput(dataTable, element);\n",
       "          const docLink = document.createElement('div');\n",
       "          docLink.innerHTML = docLinkHtml;\n",
       "          element.appendChild(docLink);\n",
       "        }\n",
       "      </script>\n",
       "    </div>\n",
       "  </div>\n",
       "  "
      ],
      "text/plain": [
       "     fueltype  aspiration  carbody  drivewheel  carwidth  curbweight  \\\n",
       "0           0           0        4           1      64.1        2548   \n",
       "1           0           0        4           1      64.1        2548   \n",
       "2           0           0        1           1      65.5        2823   \n",
       "3           0           0        0           0      66.2        2337   \n",
       "4           0           0        0           2      66.4        2824   \n",
       "..        ...         ...      ...         ...       ...         ...   \n",
       "200         0           0        0           1      68.9        2952   \n",
       "201         0           1        0           1      68.8        3049   \n",
       "202         0           0        0           1      68.9        3012   \n",
       "203         1           1        0           1      68.9        3217   \n",
       "204         0           1        0           1      68.9        3062   \n",
       "\n",
       "     enginetype  cylindernumber  \n",
       "0             3               0  \n",
       "1             3               0  \n",
       "2             2               1  \n",
       "3             0               0  \n",
       "4             0               2  \n",
       "..          ...             ...  \n",
       "200           0               0  \n",
       "201           0               0  \n",
       "202           2               1  \n",
       "203           0               1  \n",
       "204           0               0  \n",
       "\n",
       "[205 rows x 8 columns]"
      ]
     },
     "execution_count": 90,
     "metadata": {},
     "output_type": "execute_result"
    }
   ],
   "source": [
    "X"
   ]
  },
  {
   "cell_type": "code",
   "execution_count": 91,
   "metadata": {
    "id": "ctzdY6QWCqos"
   },
   "outputs": [],
   "source": [
    "from sklearn.model_selection import train_test_split, cross_val_score\n",
    "from sklearn.ensemble import RandomForestClassifier"
   ]
  },
  {
   "cell_type": "code",
   "execution_count": 92,
   "metadata": {
    "id": "AP6lChhyDhhx"
   },
   "outputs": [],
   "source": [
    "train_X, test_X, train_y, test_y = train_test_split(X, y, test_size = 0.26)"
   ]
  },
  {
   "cell_type": "code",
   "execution_count": 93,
   "metadata": {
    "colab": {
     "base_uri": "https://localhost:8080/"
    },
    "id": "EcPM_Kc8Lu8k",
    "outputId": "b6b794c4-5b84-4304-9474-dfc972f6ddaa"
   },
   "outputs": [
    {
     "name": "stdout",
     "output_type": "stream",
     "text": [
      "(151, 8)\n",
      "(54, 8)\n"
     ]
    }
   ],
   "source": [
    "print(train_X.shape)\n",
    "print(test_X.shape)"
   ]
  },
  {
   "cell_type": "markdown",
   "metadata": {
    "id": "CqhnGaEab36z"
   },
   "source": [
    "## Decision Tree"
   ]
  },
  {
   "cell_type": "code",
   "execution_count": 94,
   "metadata": {
    "colab": {
     "base_uri": "https://localhost:8080/"
    },
    "id": "qW-rmMeED6Ji",
    "outputId": "8cf0feb8-1b63-4de1-eb24-9e31b11f9a7a"
   },
   "outputs": [
    {
     "name": "stdout",
     "output_type": "stream",
     "text": [
      "Decision Tree Accuracy: 0.8499316276455697\n"
     ]
    }
   ],
   "source": [
    "from sklearn.tree import DecisionTreeRegressor\n",
    "from sklearn.metrics import mean_squared_error\n",
    "\n",
    "dt = DecisionTreeRegressor(random_state=42)\n",
    "dt.fit(train_X, train_y)\n",
    "y_pred_dt = dt.predict(test_X)\n",
    "mse_dt = mean_squared_error(test_y, y_pred_dt)\n",
    "accuracy_dt = 1 - (mse_dt / test_y.var())\n",
    "print(\"Decision Tree Accuracy:\", accuracy_dt)"
   ]
  },
  {
   "cell_type": "markdown",
   "metadata": {
    "id": "TX-sPVdob7q1"
   },
   "source": [
    "## Random Forest Regressor"
   ]
  },
  {
   "cell_type": "code",
   "execution_count": 95,
   "metadata": {
    "colab": {
     "base_uri": "https://localhost:8080/"
    },
    "id": "RZEGm1WJG0pq",
    "outputId": "3f2ae75c-c62f-4828-b0c0-634158f44ac1"
   },
   "outputs": [
    {
     "name": "stdout",
     "output_type": "stream",
     "text": [
      "Random Forest Accuracy: 0.8966072590622485\n"
     ]
    }
   ],
   "source": [
    "from sklearn.ensemble import RandomForestRegressor, GradientBoostingRegressor\n",
    "from sklearn.metrics import mean_squared_error\n",
    "\n",
    "rf = RandomForestRegressor(n_estimators=100, random_state=42)\n",
    "rf.fit(train_X, train_y)\n",
    "y_pred_rf = rf.predict(test_X)\n",
    "mse_rf = mean_squared_error(test_y, y_pred_rf)\n",
    "accuracy_rf = 1 - (mse_rf / test_y.var())\n",
    "print(\"Random Forest Accuracy:\", accuracy_rf)\n",
    "\n"
   ]
  },
  {
   "cell_type": "markdown",
   "metadata": {
    "id": "qHZr_QVOcFso"
   },
   "source": [
    "## Greadient Boosting Regressor"
   ]
  },
  {
   "cell_type": "code",
   "execution_count": 96,
   "metadata": {
    "colab": {
     "base_uri": "https://localhost:8080/"
    },
    "id": "-MxKRlnHHDQo",
    "outputId": "529ac4ca-ad40-4abb-cb4f-7c294be8ac10"
   },
   "outputs": [
    {
     "name": "stdout",
     "output_type": "stream",
     "text": [
      "Gradient Boosting Accuracy: 0.9012288554253749\n"
     ]
    }
   ],
   "source": [
    "gb = GradientBoostingRegressor(n_estimators=100, random_state=42)\n",
    "gb.fit(train_X, train_y)\n",
    "y_pred_gb = gb.predict(test_X)\n",
    "mse_gb = mean_squared_error(test_y, y_pred_gb)\n",
    "accuracy_gb = 1 - (mse_gb / test_y.var())\n",
    "print(\"Gradient Boosting Accuracy:\", accuracy_gb)"
   ]
  },
  {
   "cell_type": "markdown",
   "metadata": {
    "id": "ZoahKOeccHEF"
   },
   "source": [
    "## X-Gradient Boost"
   ]
  },
  {
   "cell_type": "code",
   "execution_count": 97,
   "metadata": {
    "colab": {
     "base_uri": "https://localhost:8080/"
    },
    "id": "oOWCEuhFtgTx",
    "outputId": "57d2994f-0ad5-4039-e62e-31eae8c1c3e9"
   },
   "outputs": [
    {
     "name": "stdout",
     "output_type": "stream",
     "text": [
      "XGBoost Accuracy: 0.8899899451708239\n"
     ]
    }
   ],
   "source": [
    "import xgboost as xgb\n",
    "from sklearn.metrics import mean_squared_error\n",
    "\n",
    "# Train an XGBoost model\n",
    "xgb_model = xgb.XGBRegressor()\n",
    "xgb_model.fit(train_X, train_y)\n",
    "\n",
    "# Evaluate XGBoost model\n",
    "y_pred_xgb = xgb_model.predict(test_X)\n",
    "# Calculate the mean squared error\n",
    "mse = mean_squared_error(test_y, y_pred_xgb)\n",
    "\n",
    "# Calculate the accuracy\n",
    "accuracy = 1 - (mse / test_y.var())\n",
    "print(\"XGBoost Accuracy:\", accuracy)\n"
   ]
  },
  {
   "cell_type": "code",
   "execution_count": 98,
   "metadata": {
    "id": "5nbZiN4Xuygh"
   },
   "outputs": [],
   "source": [
    "from sklearn.linear_model import LinearRegression, Lasso, Ridge, ElasticNet\n",
    "from sklearn.neighbors import KNeighborsRegressor"
   ]
  },
  {
   "cell_type": "markdown",
   "metadata": {
    "id": "aa41_MPscMDS"
   },
   "source": [
    "## Linear Regression"
   ]
  },
  {
   "cell_type": "code",
   "execution_count": 99,
   "metadata": {
    "colab": {
     "base_uri": "https://localhost:8080/"
    },
    "id": "0mv9fb0Itou5",
    "outputId": "e6a0d1dd-0804-4404-e523-a6bfe8da9816"
   },
   "outputs": [
    {
     "name": "stdout",
     "output_type": "stream",
     "text": [
      "Linear Regression Accuracy: 0.7446590085661107\n"
     ]
    }
   ],
   "source": [
    "lr = LinearRegression()\n",
    "lr.fit(train_X, train_y)\n",
    "y_pred_lr = lr.predict(test_X)\n",
    "accuracy_lr = lr.score(test_X, test_y)\n",
    "print(\"Linear Regression Accuracy:\", accuracy_lr)"
   ]
  },
  {
   "cell_type": "markdown",
   "metadata": {
    "id": "qBgW69KpcOjB"
   },
   "source": [
    "## Lasso Regression"
   ]
  },
  {
   "cell_type": "code",
   "execution_count": 100,
   "metadata": {
    "colab": {
     "base_uri": "https://localhost:8080/"
    },
    "id": "0rDbhgH4uIac",
    "outputId": "08e448cf-44d8-4790-c61b-07fc7df2d2bb"
   },
   "outputs": [
    {
     "name": "stdout",
     "output_type": "stream",
     "text": [
      "Lasso Regression Accuracy: 0.7446654720507333\n"
     ]
    }
   ],
   "source": [
    "lasso = Lasso(alpha=0.1)\n",
    "lasso.fit(train_X, train_y)\n",
    "y_pred_lasso = lasso.predict(test_X)\n",
    "accuracy_lasso = lasso.score(test_X, test_y)\n",
    "print(\"Lasso Regression Accuracy:\", accuracy_lasso)"
   ]
  },
  {
   "cell_type": "markdown",
   "metadata": {
    "id": "s1Ir_nqacReS"
   },
   "source": [
    "## Ridge Regression"
   ]
  },
  {
   "cell_type": "code",
   "execution_count": 101,
   "metadata": {
    "colab": {
     "base_uri": "https://localhost:8080/"
    },
    "id": "jLMYhpMVuK4E",
    "outputId": "257beb98-7993-491a-bb3e-12b2aee5218b"
   },
   "outputs": [
    {
     "name": "stdout",
     "output_type": "stream",
     "text": [
      "Ridge Regression Accuracy: 0.7446889504900451\n"
     ]
    }
   ],
   "source": [
    "ridge = Ridge(alpha=0.1)\n",
    "ridge.fit(train_X, train_y)\n",
    "y_pred_ridge = ridge.predict(test_X)\n",
    "accuracy_ridge = ridge.score(test_X, test_y)\n",
    "print(\"Ridge Regression Accuracy:\", accuracy_ridge)"
   ]
  },
  {
   "cell_type": "markdown",
   "metadata": {
    "id": "Q35A6bUdcUcm"
   },
   "source": [
    "## ElasticNet Regression"
   ]
  },
  {
   "cell_type": "code",
   "execution_count": 102,
   "metadata": {
    "colab": {
     "base_uri": "https://localhost:8080/"
    },
    "id": "Xic44R_buNVe",
    "outputId": "bc9cf83c-ecbf-4fcb-e586-7b6edc529dff"
   },
   "outputs": [
    {
     "name": "stdout",
     "output_type": "stream",
     "text": [
      "ElasticNet Regression Accuracy: 0.745672593605561\n"
     ]
    }
   ],
   "source": [
    "enet = ElasticNet(alpha=0.1, l1_ratio=0.5)\n",
    "enet.fit(train_X, train_y)\n",
    "y_pred_enet = enet.predict(test_X)\n",
    "accuracy_enet = enet.score(test_X, test_y)\n",
    "print(\"ElasticNet Regression Accuracy:\", accuracy_enet)"
   ]
  },
  {
   "cell_type": "markdown",
   "metadata": {
    "id": "Q_7MLAeBcXc_"
   },
   "source": [
    "## KNN Regression"
   ]
  },
  {
   "cell_type": "code",
   "execution_count": 103,
   "metadata": {
    "colab": {
     "base_uri": "https://localhost:8080/"
    },
    "id": "WtS_JkoNuQB-",
    "outputId": "b9b19c41-c5cf-477e-9767-fbb8a2b528ec"
   },
   "outputs": [
    {
     "name": "stdout",
     "output_type": "stream",
     "text": [
      "KNN Regression Accuracy: 0.7313210411300057\n"
     ]
    }
   ],
   "source": [
    "knn = KNeighborsRegressor(n_neighbors=5)\n",
    "knn.fit(train_X, train_y)\n",
    "y_pred_knn = knn.predict(test_X)\n",
    "accuracy_knn = knn.score(test_X, test_y)\n",
    "print(\"KNN Regression Accuracy:\", accuracy_knn)"
   ]
  },
  {
   "cell_type": "markdown",
   "metadata": {
    "id": "X0rasUMOcmeN"
   },
   "source": [
    "# SUMMARY TABLE"
   ]
  },
  {
   "cell_type": "code",
   "execution_count": 113,
   "metadata": {
    "colab": {
     "base_uri": "https://localhost:8080/",
     "height": 363
    },
    "id": "kpmrZV6xuSGD",
    "outputId": "f491dcaf-4ae2-4bac-dc64-784021a594f9"
   },
   "outputs": [
    {
     "data": {
      "text/html": [
       "\n",
       "  <div id=\"df-11365bda-600d-4663-8e94-33ad7ee0ae75\">\n",
       "    <div class=\"colab-df-container\">\n",
       "      <div>\n",
       "<style scoped>\n",
       "    .dataframe tbody tr th:only-of-type {\n",
       "        vertical-align: middle;\n",
       "    }\n",
       "\n",
       "    .dataframe tbody tr th {\n",
       "        vertical-align: top;\n",
       "    }\n",
       "\n",
       "    .dataframe thead th {\n",
       "        text-align: right;\n",
       "    }\n",
       "</style>\n",
       "<table border=\"1\" class=\"dataframe\">\n",
       "  <thead>\n",
       "    <tr style=\"text-align: right;\">\n",
       "      <th></th>\n",
       "      <th>Model</th>\n",
       "    </tr>\n",
       "    <tr>\n",
       "      <th>Score</th>\n",
       "      <th></th>\n",
       "    </tr>\n",
       "  </thead>\n",
       "  <tbody>\n",
       "    <tr>\n",
       "      <th>0.9012</th>\n",
       "      <td>Gradient Boosting</td>\n",
       "    </tr>\n",
       "    <tr>\n",
       "      <th>0.8966</th>\n",
       "      <td>Random Forest</td>\n",
       "    </tr>\n",
       "    <tr>\n",
       "      <th>0.8899</th>\n",
       "      <td>XG Boost</td>\n",
       "    </tr>\n",
       "    <tr>\n",
       "      <th>0.8499</th>\n",
       "      <td>Decision Tree</td>\n",
       "    </tr>\n",
       "    <tr>\n",
       "      <th>0.7456</th>\n",
       "      <td>Elastic-net Regression</td>\n",
       "    </tr>\n",
       "    <tr>\n",
       "      <th>0.7446</th>\n",
       "      <td>Linear Regression</td>\n",
       "    </tr>\n",
       "    <tr>\n",
       "      <th>0.7446</th>\n",
       "      <td>Lasso Regression</td>\n",
       "    </tr>\n",
       "    <tr>\n",
       "      <th>0.7446</th>\n",
       "      <td>Ridge Regression</td>\n",
       "    </tr>\n",
       "    <tr>\n",
       "      <th>0.7313</th>\n",
       "      <td>KNN</td>\n",
       "    </tr>\n",
       "  </tbody>\n",
       "</table>\n",
       "</div>\n",
       "      <button class=\"colab-df-convert\" onclick=\"convertToInteractive('df-11365bda-600d-4663-8e94-33ad7ee0ae75')\"\n",
       "              title=\"Convert this dataframe to an interactive table.\"\n",
       "              style=\"display:none;\">\n",
       "        \n",
       "  <svg xmlns=\"http://www.w3.org/2000/svg\" height=\"24px\"viewBox=\"0 0 24 24\"\n",
       "       width=\"24px\">\n",
       "    <path d=\"M0 0h24v24H0V0z\" fill=\"none\"/>\n",
       "    <path d=\"M18.56 5.44l.94 2.06.94-2.06 2.06-.94-2.06-.94-.94-2.06-.94 2.06-2.06.94zm-11 1L8.5 8.5l.94-2.06 2.06-.94-2.06-.94L8.5 2.5l-.94 2.06-2.06.94zm10 10l.94 2.06.94-2.06 2.06-.94-2.06-.94-.94-2.06-.94 2.06-2.06.94z\"/><path d=\"M17.41 7.96l-1.37-1.37c-.4-.4-.92-.59-1.43-.59-.52 0-1.04.2-1.43.59L10.3 9.45l-7.72 7.72c-.78.78-.78 2.05 0 2.83L4 21.41c.39.39.9.59 1.41.59.51 0 1.02-.2 1.41-.59l7.78-7.78 2.81-2.81c.8-.78.8-2.07 0-2.86zM5.41 20L4 18.59l7.72-7.72 1.47 1.35L5.41 20z\"/>\n",
       "  </svg>\n",
       "      </button>\n",
       "      \n",
       "  <style>\n",
       "    .colab-df-container {\n",
       "      display:flex;\n",
       "      flex-wrap:wrap;\n",
       "      gap: 12px;\n",
       "    }\n",
       "\n",
       "    .colab-df-convert {\n",
       "      background-color: #E8F0FE;\n",
       "      border: none;\n",
       "      border-radius: 50%;\n",
       "      cursor: pointer;\n",
       "      display: none;\n",
       "      fill: #1967D2;\n",
       "      height: 32px;\n",
       "      padding: 0 0 0 0;\n",
       "      width: 32px;\n",
       "    }\n",
       "\n",
       "    .colab-df-convert:hover {\n",
       "      background-color: #E2EBFA;\n",
       "      box-shadow: 0px 1px 2px rgba(60, 64, 67, 0.3), 0px 1px 3px 1px rgba(60, 64, 67, 0.15);\n",
       "      fill: #174EA6;\n",
       "    }\n",
       "\n",
       "    [theme=dark] .colab-df-convert {\n",
       "      background-color: #3B4455;\n",
       "      fill: #D2E3FC;\n",
       "    }\n",
       "\n",
       "    [theme=dark] .colab-df-convert:hover {\n",
       "      background-color: #434B5C;\n",
       "      box-shadow: 0px 1px 3px 1px rgba(0, 0, 0, 0.15);\n",
       "      filter: drop-shadow(0px 1px 2px rgba(0, 0, 0, 0.3));\n",
       "      fill: #FFFFFF;\n",
       "    }\n",
       "  </style>\n",
       "\n",
       "      <script>\n",
       "        const buttonEl =\n",
       "          document.querySelector('#df-11365bda-600d-4663-8e94-33ad7ee0ae75 button.colab-df-convert');\n",
       "        buttonEl.style.display =\n",
       "          google.colab.kernel.accessAllowed ? 'block' : 'none';\n",
       "\n",
       "        async function convertToInteractive(key) {\n",
       "          const element = document.querySelector('#df-11365bda-600d-4663-8e94-33ad7ee0ae75');\n",
       "          const dataTable =\n",
       "            await google.colab.kernel.invokeFunction('convertToInteractive',\n",
       "                                                     [key], {});\n",
       "          if (!dataTable) return;\n",
       "\n",
       "          const docLinkHtml = 'Like what you see? Visit the ' +\n",
       "            '<a target=\"_blank\" href=https://colab.research.google.com/notebooks/data_table.ipynb>data table notebook</a>'\n",
       "            + ' to learn more about interactive tables.';\n",
       "          element.innerHTML = '';\n",
       "          dataTable['output_type'] = 'display_data';\n",
       "          await google.colab.output.renderOutput(dataTable, element);\n",
       "          const docLink = document.createElement('div');\n",
       "          docLink.innerHTML = docLinkHtml;\n",
       "          element.appendChild(docLink);\n",
       "        }\n",
       "      </script>\n",
       "    </div>\n",
       "  </div>\n",
       "  "
      ],
      "text/plain": [
       "                         Model\n",
       "Score                         \n",
       "0.9012       Gradient Boosting\n",
       "0.8966           Random Forest\n",
       "0.8899                XG Boost\n",
       "0.8499           Decision Tree\n",
       "0.7456  Elastic-net Regression\n",
       "0.7446       Linear Regression\n",
       "0.7446        Lasso Regression\n",
       "0.7446        Ridge Regression\n",
       "0.7313                     KNN"
      ]
     },
     "execution_count": 113,
     "metadata": {},
     "output_type": "execute_result"
    }
   ],
   "source": [
    "results = pd.DataFrame({\n",
    "    'Model': ['Decision Tree','Random Forest','Gradient Boosting','XG Boost','Linear Regression','Lasso Regression','Ridge Regression','Elastic-net Regression','KNN'],\n",
    "    'Score': [0.8499,0.8966,0.9012,0.8899,0.7446,0.7446,0.7446,0.7456,0.7313]})\n",
    "\n",
    "model_summary_df = results.sort_values(by='Score', ascending=False)\n",
    "model_summary_df= model_summary_df.set_index('Score')\n",
    "model_summary_df"
   ]
  },
  {
   "cell_type": "markdown",
   "metadata": {
    "id": "3-62vvOicuYR"
   },
   "source": [
    "## Saving the best model"
   ]
  },
  {
   "cell_type": "code",
   "execution_count": 110,
   "metadata": {
    "colab": {
     "base_uri": "https://localhost:8080/"
    },
    "id": "6gw8eUGUwGgS",
    "outputId": "ec392776-bd60-445c-cad9-eaa819a04d5a"
   },
   "outputs": [
    {
     "data": {
      "text/plain": [
       "['gb_model_90%.joblib']"
      ]
     },
     "execution_count": 110,
     "metadata": {},
     "output_type": "execute_result"
    }
   ],
   "source": [
    "from joblib import dump\n",
    "dump(gb, 'gb_model_90%.joblib')"
   ]
  },
  {
   "cell_type": "markdown",
   "metadata": {
    "id": "5gii2J0YcyJW"
   },
   "source": [
    "## Loading the saved best model"
   ]
  },
  {
   "cell_type": "code",
   "execution_count": 114,
   "metadata": {
    "colab": {
     "base_uri": "https://localhost:8080/"
    },
    "id": "n0DO8Lw_HXu-",
    "outputId": "95eec060-6eb2-4ea6-acc1-70125a9c28f2"
   },
   "outputs": [
    {
     "name": "stdout",
     "output_type": "stream",
     "text": [
      "/content\n",
      "['.config', 'drive', 'xgb_model.joblib', 'gb_model_90%.joblib', 'sample_data']\n"
     ]
    }
   ],
   "source": [
    "import os\n",
    "\n",
    "print(os.getcwd())  # print current working directory\n",
    "print(os.listdir())  # print contents of current directory\n"
   ]
  },
  {
   "cell_type": "code",
   "execution_count": 115,
   "metadata": {
    "id": "hd5VHk7iwItl"
   },
   "outputs": [],
   "source": [
    "from joblib import load\n",
    "loaded_model = load('gb_model_90%.joblib')"
   ]
  },
  {
   "cell_type": "markdown",
   "metadata": {
    "id": "MiNpUg8Mc6Hu"
   },
   "source": [
    "## Random testing on top 3 best models"
   ]
  },
  {
   "cell_type": "code",
   "execution_count": 120,
   "metadata": {
    "colab": {
     "base_uri": "https://localhost:8080/"
    },
    "id": "FsjZbH4pw-yU",
    "outputId": "3a71acb9-210f-4622-abb8-325483b4fed9"
   },
   "outputs": [
    {
     "name": "stdout",
     "output_type": "stream",
     "text": [
      "[10983.29891963]\n"
     ]
    },
    {
     "name": "stderr",
     "output_type": "stream",
     "text": [
      "/usr/local/lib/python3.9/dist-packages/sklearn/base.py:439: UserWarning: X does not have valid feature names, but GradientBoostingRegressor was fitted with feature names\n",
      "  warnings.warn(\n"
     ]
    }
   ],
   "source": [
    "import numpy as np\n",
    "\n",
    "# features_list = [1, 1, 2, 2, 67, 2888, 5, 6]\n",
    "features_list = [0, 1, 1, 1, 66.5, 2500, 0, 0]\n",
    "\n",
    "features_arr = np.array(features_list).reshape(1, -1)\n",
    "\n",
    "pred = loaded_model.predict(features_arr)\n",
    "print(pred)\n"
   ]
  },
  {
   "cell_type": "code",
   "execution_count": 121,
   "metadata": {
    "colab": {
     "base_uri": "https://localhost:8080/"
    },
    "id": "9cE8GXH6PKuT",
    "outputId": "e5305551-2ffa-40dd-aca5-3a7ce631dcf0"
   },
   "outputs": [
    {
     "name": "stdout",
     "output_type": "stream",
     "text": [
      "[11363.925]\n"
     ]
    },
    {
     "name": "stderr",
     "output_type": "stream",
     "text": [
      "/usr/local/lib/python3.9/dist-packages/sklearn/base.py:439: UserWarning: X does not have valid feature names, but RandomForestRegressor was fitted with feature names\n",
      "  warnings.warn(\n"
     ]
    }
   ],
   "source": [
    "# features_list = [1, 1, 2, 2, 67, 2888, 5, 6]\n",
    "features_list = [0, 1, 1, 1, 66.5, 2500, 0, 0]\n",
    "features_arr = np.array(features_list).reshape(1, -1)\n",
    "\n",
    "pred = rf.predict(features_arr)\n",
    "print(pred)"
   ]
  },
  {
   "cell_type": "code",
   "execution_count": 122,
   "metadata": {
    "colab": {
     "base_uri": "https://localhost:8080/"
    },
    "id": "B57Mq5CXPfbi",
    "outputId": "6102efaa-869b-4cb7-fd0a-ea3c172c065a"
   },
   "outputs": [
    {
     "name": "stdout",
     "output_type": "stream",
     "text": [
      "[10433.121]\n"
     ]
    }
   ],
   "source": [
    "# features_list = [1, 1, 2, 2, 67, 2888, 5, 6]\n",
    "features_list = [0, 1, 1, 1, 66.5, 2500, 0, 0]\n",
    "features_arr = np.array(features_list).reshape(1, -1)\n",
    "\n",
    "pred = xgb_model.predict(features_arr)\n",
    "print(pred)"
   ]
  },
  {
   "cell_type": "markdown",
   "metadata": {
    "id": "Nrll5nNkSil7"
   },
   "source": [
    "# User Reference Table"
   ]
  },
  {
   "cell_type": "markdown",
   "metadata": {
    "id": "DdfM-OXCSliL"
   },
   "source": [
    "![image.png](data:image/png;base64,iVBORw0KGgoAAAANSUhEUgAAA0EAAAIgCAIAAADMQPXFAAAAAXNSR0IArs4c6QAAAARnQU1BAACxjwv8YQUAAAAJcEhZcwAAEnQAABJ0Ad5mH3gAAAASdEVYdFNvZnR3YXJlAEdyZWVuc2hvdF5VCAUAADqZSURBVHhe7d1fiyXXfS/85y34zq9AvrJyYzIQiGGMLmww2IMjAg4+EPtqhGEkDGPfWCIgEMZNI3wQg0BB+BAJDWlhnhGPIQMGWZh+RnjaMQZFCBFOn7GaOYqO5yjOkZXLU7Xqz65/e3dX7T2r16z5wAcxXVW7qkb6/Wp9a1Xt1v/z6af/CQDAg0WGAwB48MhwAAAPHhkOAODBI8MBADx4ZDgAgAePDAcA8OCR4QAAHjwyHADAg0eGAwBIxSeffDpYss68DPfRRx//j//x4fvvf/Dee78HIG/Hx/9zsASIoAhaRdz66KP/PYhhA2fNcP/+7//nv//3u8Ue/9f/+vg//uP/fPLJn4B1ig4cLIEHkUqG8/KHP5SzZkX0+vjj/xhEstaZMlwR4IpO/rd/uzc4ADDJyEceVDKcr3/7t//9/vsfrItxZ8pwRQws9jLYL7COkY88qGQ4d0UAK2LYIJhVTs9w1Ttwgz0CGxj5yINKhhSsezfu9AxXvQM32B2wgZGPPKhkSMEf/vDvRRgbxLPC6Rnu/fc/8CUGmMXIRx5UMiSiCGODeFY4PcPpYZhL15AHlQyJuHv3D4N4VpDhYPd0DXlQyZCIohkH8awgw8Hu6RryoJIhETIcRKJryINKhkTIcBCJriEPKhkSIcNBJLqGPKhkSIQMB5HoGvKgkiERMhxEomvIg0qGRETLcL9/5duf+8xnJz371nBjyNDyke/41is/euKrX3y07JfP/8VXv/vswT+f8n+6O37tO2dvrlkbbzC9n395+Rvlws898qNbq4W1W899vlz1me++fne4qnXrufDxb74mN6RiXiX/66vfDP8F14n5X/buL3/yxFe+UB53ohrPWdM+33nlX1cL7/3i6UfW/Vtq/sX+5fO/Ga5qNds896vRKrLwgGc4BcqDY1mGe/fG9x/r9Uvl0a/uvbk+96SU4T758OC74Zw///TNe93lf/rkV8+G8enRZ36x4X/cJ8Ml50HNcL/+yaqVHpAM98knv9n/Ujjhv3753dXCUrP94y/9S295jyEyd9Ez3LdfPR6u2oIC5cGxIMPdu/XjatR55PJP3vrXEHTuvX9z7/Hq1vwbf/9Od+Nzty4L3v3ZE2H5IKt9fPPvqpnFUbbrkeGSs+xupNRcsc/lv+bb//VLoQ6//8bd4aoUrMlwf3r7+eq0B1nt/Zf+uvw3Oc52PYbI3MlwEMn8rmku01/58du9lPPxzR+G9PPZJw4+6C4/Z+sy3Cd333gq9OlnfnjzXrvw3pvPhAepU89Yu2S45DygGe6tH4Ui3O0YtDvrMtwnv/7JX4Z/aV/t3rM1ryic8m/SEJm7ZDLcR+8c/OiJxy6U2zzyxcefuvbm8R/btR/+9mfP1i8xfPYLj337yRd+WR69qfhWWfqjUaR33HbtG7979Qd/Xeyw7pZ7v3v9ue9++c/KVY/++d88+cIvzuH6QvZmd82/vPzVsiY/98TPRm+/NavKK3h7mf75O6/88PGijIuFo0b48LevPf3N0EShv17d/y/lRwZ9ETZuMtNPb918vmrJLzz23Z+8tQqL0/1YGB201Uy5fXY15Xbvn54OS760/+uw5PjNF773+J9Xqe6LX3viR6//9qNqy16G29zg1ZK3rj35jerdwQtfLvdzt1rOzuw0wzX/ff/h1lvPf6csgCrTn1oPa+vz47I+v/4X1Vz1n32l+Oyrbx3Xn1qpjvLH39/sVMs3v/fizeN6P5ODRZMCX37rF/V7dX/2lSf2i/r/4M39agT5/F9844evNqdauvvLF5/6m+pkivPsvcm6GnfCp9649q1wxFGGa+/l/mo15fbu338tbFzfxd3953YIK07pW8UAWr9o0c9woxTb/Gtp76M2DcSkKI0M99Gt574S1nY8cvnVUK8fv/WjLw9WfeazX37u1sdNj7XOnuEefaR6kzp85N6vnh29b/To3772fu8MYWtzu+bujSdDNTYpp6dz8W0u0498vspJ4ww32UTB+gw39JWfvL12V2U/Fmc16r6V9tXsp25UY9iHb3wvfPZLYbfvvfq3dUuuPHL59XCtaMbsM2W491+5XP9LWPnKs291xlS2dz8yXFu9ZUmfoR6G6vr809v/daLUv/kPbww/VRylGHe+PqqWzz/+wq+7xdwbLOoMNNRuU3vke29UEerd175TlX3Hl5/7Vbn/9jWJkXGG+9O7P308rGovBc1LcuFAU0PY5x7bu1XOec/KcJsGYhIVPcMNFdfi+h79sb+7eVzdo3/wZlVJ5fTDe68/8VfF7cWXnvmncOm/95sX/qpc9cheqLl+gRY2X+KbtUVdvvx2dd9WP9D58jM/f796ynP3F1U/pPWUigzM7ZqmXCeu6auL7w9v3mu64DOf/85Lv67v8nuN0Dx2KVss3FUf//zp+qK/IcN96ek3wpzEuz+t1obxY2M/jrqvqxl1qq+gfvD6E+Eo3/hpcbP08VvPf6381u23X343XAHu/uz7YT/fOShPoD6fs2S4aqjrdPc7VaTb9MU95rsfGa5zET5TPUzXZ7E2xKmvXvtNuas/fvj2a99/7Nt1ChkkmDrttV3TjDvVG2ZNpXXKqd3DZ7/0gxvl+ReDRfWUszmZD28+W7279mT5yl3Vd6uu/PjdfwiRrrxvaV+TePqN8J7rvX+9+Uydn6b6vemXupLrp6vVC6bvv/Lk1x678Lm/fPbm3bK7P377Wpii+/yPy1A7I8NtHIjr7UlOAhnu3s0fDBc2nn2z+vi992698dqLz3zvW1+tn+A09w0LM9yqSZoHOhOe+WW9DezE3K6ZOw/XGRd7jXD8j9Wfw7hSb9BMg63PcKuXb94bdtm6fhx1X0/zanZ5d9R8y6HzmvYfP/ztr15/6fmnn/irr1VP0Jo+rc/nDBnunZdCoJzwX8wl7NL9yHDD1yJPq4c19dlkowuPP/Xsi6/8/NZvjz+81zwN7CeYulq6+b4ZDr5WlOV4sCjUe1g90+y0YbXkV8+2n2oed45965X///W/DX/uxqPJIzaaL3eHeeu6lbpfBrr3/ts3Xn3h2Se/Wd5iVUcJPXL2DHeGgZgERc9wq+ppNEU2odz4/YPvNuNEV9UzCzPcaoxplkzojoiwvdldM/d9uKYLCt1SX5bhVvXf2/+mfhz3V8/qr/NOPSA1V4N7v/rxV/tPo4K5Ga4ZkCasOSUWuR8Zrnu9PXs9lAb1/97N577dK9FHvvjkS78r57r6CWbiuE0CK3c1Wcwb57HCkk6Gqzee8tz/O9Gz3c+uFjZW74/eulVNabep991/fKLJbV3hzPv/cjadf7PlhNX2JCeBDNfE/x/8U9lmA00jffmpn958+70P7957v97PjjJc0xibf7sB7MD8rjnb91JHXVDolfqiZ6mTY+Tmfhz3V187R/KFashpsmn9/OuRv/nxwa/eOb77cX8w653P6BDdBq9nVnpf3+M+uM8ZbkY9lAb1/9Hvjz8qhpUPj3936+bPXnyi83i0n2DOOA/XK+ZZGa6eh+t8EWHleO48XPE3ar7HfeEL4R27Znq++es/dvXlN379/t27H7/bPfP+v5xN579xICZZCWS49jtrzZsBhd++9uwLP3/n7r0/vb0XVn3p2Zt3y+V3f/1y/a5rNbvbFOhTP68/2D5+euYXZW/c/ecXqw2q4060ZdMYq5cA/vjOKz968Y3f/X71SxBgFxaMfGf6/XCDMSzol/qS7zRMjpGb+3Fy2OtqXs2uNPOCzXj2zfLduPIv+MbfVWf7rVfeKzbonc/mBq/333kv8O4/vfjca7fe9Z2Gnbq/GW5OPZS69X/3zee+/ugjX//+K1UB/LF5QS08ghwkmN9eO8v7cL1inpXhmnunR//2738T3lQrTu/mCz969a33ikae+T5cqf1yd1B9Gahw68dVpKs64pMPfvNS/bWecOb9i0PzG/K+81L5b/JPxzeert/nK89/00Bc/UiCUshwRZ29/kT4MnNf+f2d9V/eCT3cf4RflukHbzxVDSoDE2NV7fhnUxPRvsvGri0b+U7//zScnuEK83+3yNQYubkfT81w7avZpdXvivv9wfjLpLViV/3z2djgn9y7tT/+pqGvme/a/c1ws+qh0K3/9yaHkroAhgnsTN9L7RXzvAz3ycdvP/+10fdS6296zvpeaq35RXGF1WTzvYkvk9aK8xxcHLr/p4qu6vzXD8T1sUhPGhmucPc3B+3/ETL8np43ypuVctXq/3BX/banf379ibBZ1cOrtZ999Llb5fb3fvfqD6rfx3Ph8R+8dvOFznHXjTHhl+vUb86GX65z0407O7d85Nv8/0s9NcP98ePj3735yvMvdx7Ivv9KleHC7yY4e4YrftzQj6dnuPbV7MH/s+Gj8jfbhQYMv6Dxl++89Xz5i+7Crobns6HByw3Cb/yq0mr17+qVW0v/tbPGfc5w8+phWP/33l8VQPX7C5vf9zlKYHW1bP79cFtkuNLxL1586tvV9wwe/fOvP/Hca7fqW6+yks/4++FazZe7B//Phva309W/gu43B0+GBinOc3RxaPv3kS9+Z/+Xrz8T1q7Of/1ATJqiZTh42J1b1zS37837cB+/+49PVkvCr/bobwyncf2HRMhwEMn5dc30+3B+eyfLuP5DImQ4iORcu6b7PyAaPtOBWVz/IREyHESia8iDSoZEyHAQia4hDyoZEiHDQSS6hjyoZEiEDAeR6BryoJIhETIcRKJryINKhkTIcBCJriEPKhkSIcNBJLqGPKhkSIQMB5HoGvKgkiERMhxEomvIg0qGRMhwEImuIQ8qGRKxPMMB8BA6Pv6fgyXAuSiacRDPCmfKcIMlwGa6hjyoZEjEZDPKcLB7uoY8qGRIhAwHkega8qCSIREyHESia8iDSoZEyHAQia4hDyoZEiHDQSS6hjyoZEiEDAeR6BryoJIhETIcRKJryINKhkTIcBCJriEPKhkSIcNBJLqGPKhkSIQMB5HoGvKgkiERMhxEomvIg0qGRMhwEImuIQ8qGRIhw0EkuoY8qGRIRLwMd3L96oWLlyZcvnEy2visjm9cuXjpyvU744XDo3TsH3Y2hliMfORhaSUf7bsOw07JcBCJDEcellTy4bXBdbgwvHQDM0XOcFcPjofLtzKZ4XruHFwuLhbXbg+XQ2wyHHmYX8n1DNzqWl3fae96RICHjAwHkchw5GF2JVeTcHtHpy8E5kgiw41XjZZ0X6ToLJ+d4ar99CNddUdYXEqavYWj14cb7XzNmcBpFma47kOoyzdOwo+r9wHq+Yxa7z2B3tMrtzHszNxKvr1XVOD4ahmupdu8SwMPvcgZrh1RGqGBT8lwvaGo0qxaMA83GAK7x+oPhyvtneKGM4HT7Kxr2gLeUJBqlftmZiWvfRgSsp27C1gu/QwX+r93rxaWVLlqQYarbv5WE/jDvRVn1Ul41azbGc4ETjO/a7rl111Sleiotjv3J6OeOtq/fO3gcEOnwFnJcJCIyBmuF9RamzLcurmxqvOXZLj+4brTctWxBpms3WDzmcBpZnfNZHl3K7YRxsJavWpqM9gJGQ4SkXyGC0PRlOUZrvup8iLSTq1N7q1duPlM4DSzuyaU3KYMF4qzU4qlTm6rJ+1Gy2Ercys5ZLXxxT/UZ+/JBjBP8hkujFJrh5/J1NUzfQvYRLfyIrL6eDUibpyHMxCy2PyuOcuz1M7aDSWqetmdZXcjk5dW76LANpLIcMNmrn6sNx4NVMWujnupa0GGC4e4enC9+GdnVZXhukNdveQMZwKnWdo1ZU0OhBINea4zBFZPVKvqLT7YS2yndwqc1dK7kdENc/9yCsyVRoZrOryv2biOdAMhey3OcO0Ru3eBTYYbWO1/w5nAaRZ0TalbdZe7v1ukqu0J+//fZCUbL9mNJZU8dfF0UwFbSiTD9fJT0dijjXshb3AztyjDTZ1Ps7ewanSs2pozgdMsynB3TvotUxVnM8fWjXFFMdc/tlNxzapqbb0H2NLCu5HexVNBwg7Ey3CJCVeTweu0pydCWG5219Q3NuPH/aZ+OU8P/vUfMvHwZbh6FCz1XhhqVslw3CcLuqY/l1ZTopwvGQ4S8fBmuImBUIbjflrYNf0XiYY3HhCdDAeJePgyHJwTXUMeVDIkQoaDSHQNeVDJkAgZDiLRNeRBJUMiZDiIRNeQB5UMiZDhIBJdQx5UMiRChoNIdA15UMmQCBkOItE15EElQyJkOIhE15AHlQyJkOEgEl1DHlQyJEKGg0h0DXlQyZCI5RkOAIBzNIhnBfNwsHu6hjyoZEiEDAeR6BryoJIhETIcRKJryINKhkTIcBCJriEPKhkSIcNBJLqGPKhkSIQMB5HoGvKgkiERMhxEomvIg0qGRMhwEImuIQ8qGRIhw0EkuoY8qGRIhAwHkega8qCSIREyHESia8iDSoZEyHAQia4hDyoZEiHDQSS6hjyoZEiEDAeR6BryoJIhETIcRLKbrjm8duHipf3D0Z/vg9t7ly5cvHZ7tJyH3OJKLivq8o2T0XJgGRkOIpHhyMPCSj6+ceWiDAe7JMNBJLvPcPeZDMekeZVcRbeWDAe7I8NBJDIceZDhIBEyHESysGu6Q2Ax/m18lnpy/Wq9ZWHvqF3+6ad3Di43yy9eunL9TmfV2k/JcExaev0/2i8KTIaD3ZHhIJIlXRNS2thUhuultFodyJatkuGYJsNBImQ4iGR+14QxrzvT1szJTWS40ZxcWHL14Lj4c9hPZ4Lt5PrV/b2jMpxt+pQMxzQZDhIhw0Eks7smJLbBc891uS3krQnh42GybWrs3PgpGY5pMhwkQoaDSGZ3zXiSrBCC3SjDTT0SDdoI2HvprR5HT/mUDMckGQ4SIcNBJLO7Zu483JlHx3bjzZ+S4Zgkw0EiZDiIZH7XhDGvOxV32vtw3ZfePj2+0wyWR/v9gXMVzjZ9SoZjmgwHiZDhIJIlXVNlrJGJDLfmweiV63dCFBvZ8L1Uz1LZSIaDRMhwEMnCrmnm3kpF8BrNvTUZrtR76a0Xv+opvVp34m39p2Q4JslwkAgZDiLRNeRBJUMiZDiIRNeQB5UMiZDhIBJdQx5UMiRChoNIdA15UMmQCBkOItE15EElQyJkOIhE15AHlQyJkOEgEl1DHlQyJEKGg0h0DXlQyZAIGQ4i0TXkQSVDImQ4iETXkAeVDImQ4SASXUMeVDIkQoaDSHQNeVDJkAgZDiLRNeRBJUMilmc4AADO0SCeFczDwe7pGvKgkiERMhxEomvIg0qGRMhwEImuIQ8qGRIhw0EkuoY8qGRIhAwHkega8qCSIREyHESia8iDSoZEyHAQia4hDyoZEiHDQSS6hjyoZEiEDAeR6BryoJIhETIcRKJryINKhkTIcBCJriEPKhkSIcNBJLqGPKhkSIQMB5HoGvKgkiERMhxEomvIg0qGRJxLhjvav3jpwsVL+4eD5cvd3it2eO32aPkidw4uX7pw+cbJcDlsJfrIp5K5L5ZWcn3lr+zw+g8PrfPIcIfX6jbe3eiyTYY7uX71wsWrB8ftEiMf98VOM9xZqlQlc18sqeT2st9x5fqd4WbAHOeQ4aq8tV/+s5uczs0ow8F9IcORh/mVXM/ArULb8Y0r5RIXXthK9AxXte7eUfWHFO7DZDjikOHIw+xKribhisv+qQuBOWJnuE5gmhxgwsJwxza+aSt+DB8frR08Sw2Xhv3DamF7jei9itF8trdw7YnVt4yV7hPbZsvOBimkUtK0qGumOmLwWKpTq3XNB/uHky0G25pbyaEsx/fJ4fKrPmELkTNcb1CpAlnnzdbecFWrElgvRXU093DjDNfbZurj4binZ7huamw15zx1wr2/EazM75o1HTGd4aar0RjJzs2s5KoyJ95X7l23gfniZrhmOq1ZEiJUk8NGP5b5aX/vqOzwJoR14lEVv+p7u6kMt7rtG94F9k+jMzVY6WS4+ridtdXOB6Nme87V2s5fAVrzu2Z9R3SrtFnVqcxSKHsZjt2T4SARUTPcuGP7S4bD0kqVpQbZKASmKtX19hOWTz7T7E6qnSnDdQ7R6mw/vjat/yvw0JvfNRvKabhqajhUjdwXMhwkImaGGzy4XOnmrW7MWg0/wwm84cJxhusHr4lDnyXDjVYFq/2Px0ijJmstu/OZ7ohhpU0XXtkXqpFdm1vJ4fo8upBWl2X1CVuImOFC9Jm2po1XI9D8ebhuhgtru0vKa8fO5uF6Jy/DsdayDNfVyWTDSuu1QE01cl/MruTq4j91AffmCWwjWoYLw8na6fQqEh3t98eb1bBUv5fWiVP1kjp79QawYfAajmTVxMaZMlz/KKXqulPvbTxGGjVZa37XrO+INVXdXRI2Vo3s3pJKLi+knWcp40srMF+sDDc5kVZpVtVDzkD1kbrhh9orwsYM1wxmI9XH68FvtaQ3OnbXtpqdy3DMMLdrNnVEVWn1wmog7C7pUI3s2vwM19z99q0iHbBInAxXjS7rbrm6a/svrrWZL2S4ouFHeaveyeYM12xQK1ZVPzZ7WB10nOFKvQTZHKU02nJiCdSWjHzrOqKwGhRXndWp82KhauS+WFTJhW4xrxsOgBniZLitNRluuBweHLG7Bu4PlQyJkOEgEiMfeVDJkAgZDiIx8pEHlQyJeEAyHDz4dA15UMmQCBkOItE15EElQyJkOIhE15AHlQyJkOEgEl1DHlQyJEKGg0h0DXlQyZAIGQ4i0TXkQSVDImQ4iETXkAeVDImQ4SASXUMeVDIkQoaDSHQNeVDJkAgZDiLRNeRBJUMilmc4AADO0SCeFczDwe7pGvKgkiERMhxEomvIg0qGRMhwEImuIQ8qGRIhw0EkuoY8qGRIhAwHkega8qCSIREyHESia8iDSoZEyHAQia4hDyoZEiHDQSS6hjyoZEiEDAeR6BryoJIhETIcRKJryINKhkTIcBCJriEPKhkSIcNBJLqGPKhkSIQMB5HoGvKgkiERMhxEomvIg0qGRMhwEMn5dM3htQsXL+0fjpbDUosr+fbepQuXb5yMlgPLyHAQyZKu2T6ByXDs2sLr//GNKxdlONglGQ4ikeHIw7xKrqJbS4aD3ZHhIBIZjjzIcJAIGQ4imdk1dw4ud0a+Oocd7Rd/3jvqbNZdEj5SjJH1qHn14HiV4cpXkXq7Wjm5frVd1d85TFh6/Q+1KsPB7shwEEmkDLf6yCrDjV25fmfyKMG126v9w5AMB4mQ4SCSJV0zfBJ6tgzX3aDOcCHPVUvqWboyqNUzcJ1htZquaxIeTJDhIBEyHEQSK8P1Z9HCHgaZLES3MtWFxDaYdQs7MdCyngwHiZDhIJJIGW4wRg730F04Hdemgh2syHCQCBkOIjnHDGcejh2S4SARMhxEsosMFwLW6uW26sfTM1zvfbh6iffhWEiGg0TIcBDJ4gxXC0Gt93tAWqdnuKEmFzYpsMeDVDaR4SARMhxEsqhrOhmreYRaTZU1YetMz1KLxNb5VHdir9TLhc1RYB0ZDhIhw0EkuoY8qGRIhAwHkega8qCSIREyHESia8iDSoZEyHAQia4hDyoZEiHDQSS6hjyoZEiEDAeR6BryoJIhETIcRKJryINKhkTIcBCJriEPKhkSIcNBJLqGPKhkSIQMB5HoGvKgkiERMhxEomvIg0qGRMhwEImuIQ8qGRIhw0EkuoY8qGRIxPIMBwDAORrEs4J5ONg9XUMeVDIkQoaDSHQNeVDJkAgZDiLRNeRBJUMiZDiIRNeQB5UMiZDhIBJdQx5UMiRChoNIdA15UMmQCBkOItE15EElQyJkOIhE15AHlQyJkOEgEl1DHlQyJEKGg0h0DXlQyZAIGQ4i0TXkQSVDImQ4iETXkAeVDImQ4SASXUMeVDIkQoaDSHQNeVDJkIj4Ge7OweVLFy429o5GGyxxcv3qap+tyzdORlue1eG1Yg/7h6PlsNR5jnzqmd1ZWslH+53rs2qE7cXNcGEgGbl2e7DZfNMZrrR058Y8dk2GIw9LKnnq4n/l+p3hZsAcETPc8Y0ro769vReaeZsJsyBkuKsHx92F9YTfwnHLmMeuyXDkYX4l1zNwq4t/PRwMLtrAPPEyXBXXxqPIuuWzTGW47cYtYx67JsORh9mVHMpv+ObM5EJgjmgZLtyHTc63Hd8pFp4cV/dnvRcmOjN2YVKt+Piau7f183C9hfW033DnQTNNWCoO1I55Uxea6tGtEZFZFmW43vujg6LtvUIwGAvX1fN47Wh5cZTOns2UMDS3ksOFd1xI6wcF4GxiZbgwhAxj00B/XKk0o0v/mxDTGa67QaW7WS8d1trLRxXURqqjhwtQ9726JlCulsDp5me4QdkHdVbbsOqUep5a23TKVA/u5I1VcjKzkqtanaii0aUVmCehDDe8V2umBMKPzYi1ZuJ9TYZbbV/PwK0+Xu8wjGp1vBvMRqyWhJMfrF39CGczP8OFyuzUfFHn+3tH5Zg3qMl6SdU+m+t5NKB2dzWo/KZxegfioSfDQSISynCtbiDrZ7i13R4+Mpycq4afsIfw8eHMWTNA9sJiozdG9j7uusMy8zPcZN2W6nuSkbKMT6/nWncnvQzXvVOa3BsPNxkOEhErw1WBafL5Y3gfLvy5nj/oagaPtYNZZTLDdQ7axLXe2mafU8NbNXS1Czv7L3dlSGOB+V1T6t7SNC1QDYoTyso8tZ6roNbXXdUrbxmOkbmVHLLahuvzYDlwVtEyXH3TPxxamuXFIDHaoJuWtsxwkx9vgt3kKDUcCJuTKZePDwSnW5bhusoeCWXc/mGwQemUeq7yX6eGw/YyHGc3u5JD+Q3voicXAnPEy3DVYFA0bXc8qHLbZMyqph+ajZdkuHrn4RrR/XNQjWTV0BXCXDexNafayXD1qHlQ/NNFh0Xmd83Rfr/mQxmHZ0/j8W80n72mnptbl3rjujXqjWU4zmBJJYcKXBVSXZPuh2ErETNcoRp4hur3IeqYNRLa/iwZbvjBoL1G1BeRnnaH0yfWy3DtNr2FcGZzu2a6I+r4Vd+EDNRj5KZ6nv5goVwrw3EGS67/UzWprmBLcTNcqT+E9Oe0uoNWMaJUP26R4YZvy3b3P7x81PeFQXFW4YrTj2unnANstqhr+vce/X7pl32/2jfVc7cHi5uc+kcZjjNaev3vFrMZONiB+BnugRVGQYMZiz2MXUOOVDIkQoY7XWe2w9fgWc7IRx5UMiRChjtdk+FM/rMVIx95UMmQCBkOItE15EElQyJkOIhE15AHlQyJkOEgEl1DHlQyJEKGg0h0DXlQyZAIGQ4i0TXkQSVDImQ4iETXkAeVDImQ4SASXUMeVDIkQoaDSHQNeVDJkAgZDiLRNeRBJUMiZDiIRNeQB5UMiVie4QAAOEeDeFYwDwe7p2vIg0qGRMhwEImuIQ8qGRIhw0EkuoY8qGRIhAwHkega8qCSIREyHESia8iDSoZEyHAQia4hDyoZEiHDQSS6hjyoZEiEDAeR6BryoJIhETIcRKJryINKhkTIcBCJriEPKhkSIcNBJLqGPKhkSIQMB5HoGvKgkiERMhxEomvIg0qGRMhwEImuIQ8qGRIhw0EkC7rm9t6lCxev3R4t362NR7lzcPnShcs3TobLt3N848rFS1eu3xku50Gw+PpfVtrOawkeYjIcRBI1wx1eu3Dx0v7haPkUGY5ZFl7/w390GQ52SIaDSGS4FRnuQTavkqvo1pLhYHdkOIhEhluR4R5kMhwkQoaDSLbIcEf77RC4dzTaoFGPjiF1tQt7Sa6zn06E2niUJsN1R+LBMNwfpAfB8eT61XbVKikOM1xzzv2/HWlaev0PBSbDwe7IcBDJ0gw31ESfYVYrlRloTYYLM3NDITPNPkqpSWMTu716cBxWTX82rO1luCo7rpsIJDkyHCRChoNIlme4dtirZryqH0N4Gk5ltVsOn6XWcao7SXZyeFQoktOmo7Q5rDNDVm0fDl2t7cSv7nGreNfutnR0+/BOoZPhBLgHjwwHiZDhIJKlGa6d1mqX9BNPFbkq6zJcb95raONRRimtFAbj/nPPKthVquNOnGqrPp8bAtyDSIaDRMhwEMnSDNeLON0l3dhUW5fhhtNyPRuP0p/eq3UWdhNkIxxo8oONwae8BvdAkeEgETIcRLLjDFc9qRw84lyX4abm4cpnqeEPp2e4/trOPFy1tjOHFw60fh7u6HZ1SlWGC2dbfelh3RwhCZLhIBEyHESy2wwXos8wPK3NcHXYGqa6aldnyHDdsFgvWb3NNsiR7VGqlNkZs6u15Qd7mXIUBEmbDAeJkOEgkt1muDohjVVjZHdtlbGmtl83YdZZ0mS4gXokXrO23vPU2uqDvQxXMLo/SGQ4SIQMB5HsOMMVBkGtN+/VyU+rebIwiNZW816nZ7hin/W8XdAbhrtBrdhn/WM74df7/XDtmQwzXPt36Z0GaZLhIBEyHESia8iDSoZEyHAQia4hDyoZEiHDQSS6hjyoZEiEDAeR6BryoJIhETIcRKJryINKhkTIcBCJriEPKhkSIcNBJLqGPKhkSIQMB5HoGvKgkiERMhxEomvIg0qGRMhwEImuIQ8qGRIhw0EkuoY8qGRIhAwHkega8qCSIREyHESia8iDSoZELM9wAACco0E8K5iHg93TNeRBJUMiZDiIRNeQB5UMiZDhIBJdQx5UMiRChoNIdA15UMmQCBkOItE15EElQyJkOIhE15AHlQyJkOEgEl1DHlQyJEKGg0h0DXlQyZAIGQ4i0TXkQSVDImQ4iETXkAeVDImQ4SASXUMeVDIkQoaDSHQNeVDJkAgZDiLRNeRBJUMiZDiIRNeQB5UMiZDhIBJdQx6WVfLtvUsXLjYu3zgZbQDMJcNBJLqGPMyv5KP9Nr2tXLs93AyYR4aDSHQNeZhbySfXr5ahbe+oWXLn4HIZ465cv9NuAywgw0EkuoY8zK3k8BS1P+t2fONKL9UBS8hwEMnMrqnmKq4eHDdLDq9duHhp/7DdIDyfqt4rqkbERmebQj3n0awKP/beRuo+5+ocrvpgsWVn5yZOKCyq5MGT0071AkvJcBDJ7K7ph7b6lfB26qJdG/7Q10axyfeQOmPnxGfboNYLf61+QORhtOj6f+dkdXtQ33WoJdiSDAeRzO+akMDq0NYmqno+o3k+NZrk6CS/0XtIzZI6w9UJbzWU1lNu1d6aI/ZTo+dfbH/9L6vXJBxsTYaDSBZ0zepFojJdXT04bGcvuvGuu3GtimWrj6+EZFYNnyGxDR+PriLgKB12P8tDbMvrvwAHuyLDQSRLuqZJVOX8WTnslSmqTF3dR1H15FnPmhDWLKxG0M6M3coq2I0TmwxHaYvrfyghU7mwIzIcRLKoa6r5thvtyFfNYdwuH4l2n3h2vovQiXenPEs9yzycDMfIwuv/ZL0BW5DhIJJlXdM+Ia0nzKqX0lbJbPhQtdq+mV2r33gbqnPYGd6Hk+EYWVLJZd12v/UM7IAMB5Es7Jo6tLWPRAfBq5qHmzC5wfB3i7SJsKOZKZHhmDa3ktv7kJHBg35gHhkOIlnaNZMzbd3Br5vSrh4c1z/WGe74Tj9yhb31clh3rm7q98OttpThKM2s5G59DshwsBUZDiKJ3zXV/Ef3DaTxEpjL9R8SIcNBJOfRNd05tpbJD7bi+g+JkOEgknPqmv6TLE9C2ZrrPyRChoNIdA15UMmQCBkOItE15EElQyJkOIhE15AHlQyJkOEgEl1DHlQyJEKGg0h0DXlQyZAIGQ4i0TXkQSVDImQ4iETXkAeVDImQ4SASXUMeVDIkQoaDSHQNeVDJkAgZDiLRNeRBJUMilmc4AADO0SCeFczDwe7pGvKgkiERMhxEomvIg0qGRMhwEImuIQ8qGRIhw0EkuoY8qGRIhAwHkega8qCSIREyHESia8iDSoZEyHAQia4hDyoZEiHDQSS6hjyoZEiEDAeR6BryoJIhETIcRKJryINKhkTIcBCJriEPKhkSIcNBJLqGPKhkSIQMB5HoGvKgkiERMhxEomvIg0qGRMhwEMmCrrm9d+nCxWu3R8t35Gj/4qULe0ej5bDJsuv/yfWrF4p6q92/qoaHiAwHkaSd4e4cXL504fKNk94GMGF+JYfqWgW4ytWD48FmwDwyHEQiw5GH2ZV8eK0Mbd3qqpaYA4btyHAQiQxHHuZW8lQZqzfYARkOItkiw4WwVelPXYQNGp0RcfDB/cNqefeR1tWD4ybDVZMirc5+eu8wdQ8dPlLstnsCzVHI3MxKvnMyfmYa6ufK9TvD5cAcMhxEsjTDDTUj39Q7Rk3MGnwwpKtOEOxam+Gm9t/Opgw+0jAqPwyWXv/7FdW/GwEWkOEgkuUZrp0YO75xpf1xOJPRezg1/GC7ZDVwNgNqvaT38UI9AzfaQ33EOsN1Xkuvzu0+PvklFbvJcJ3SApaR4SCSpRmu9/W9sKSfk+rw1BsXRx8cRrRg0/twEwfqbjP1LCzEPl82zN8Orv/VPYAYB9uR4SCSpRmuF6S6S8Kf+3oZrvvBblxrhUw2neEmM19nt2EMHr4AN7mQ7Ozk+i/xw/ZkOIhkxxmumsnoxLJy1doMN5nJzMOxxLxKruaJh/cPVYGpFtiKDAeR7DbDDQNT91W5tR/sDqUhkK3PcLPfh6uXDGIfGZpZyYNKC6pq6VQXsIAMB5HsNsM1mWkkjIvjD276Xmq5thloS1Uy6y5pNftcc3QPUh8Gsyu5+8pmh2qBLclwEMmOM1yhG6SKKNaZ25jKcIVuLCvW9l+SW+1tNbtWz8ZVRvMoxRgcDlQzJD8kll3/u6UyVZzAbDIcRJJV1zQZbrich4DrPyRChoNIZDjy4PoPiZDhIBIZjjy4/kMiZDiIRNeQB5UMiZDhIBJdQx5UMiRChoNIdA15UMmQCBkOItE15EElQyJkOIhE15AHlQyJkOEgEl1DHlQyJEKGg0h0DXlQyZAIGQ4i0TXkQSVDImQ4iETXkAeVDImQ4SASXUMeVDIkYnmGAwDgHA3iWcE8HOyeriEPKhkSIcNBJLqGPKhkSIQMB5HoGvKgkiERMhxEomvIg0qGRMhwEImuIQ8qGRIhw0EkuoY8qGRIhAwHkega8qCSIREyHESia8iDSoZEyHAQia4hDyoZEiHDQSS6hjyoZEiEDAeR6BryoJIhETIcRKJryINKhkTIcBCJriEPKhkSIcNBJLqGPKhkSIQMB5E8FF1zeO3CxUv7h+HPxzeuXLx05fqd3gYrdw4uX7pw+cbJcDmp266Sw3/3i5cu7B2NVgHzyHAQSY5dc7Q/GIxluIfANpV8cv1qGeBkONgFGQ4ieSgyXJcMl6nllRxKYv9wY9kAZybDQSQyXJ8M96BaWsnhv3hZLTIc7IYMB5Es7Zow4DX6kai76urBcbv8P2/vFUuu3e5uUA2Z4VnnYPisHm/VD0Drz9Y6h2siV0hmxeF++lLzUKzS2f/gWerq8dnkDusfC2v/OiRlWSWHMihqsvizDAe7IcNBJEu6popcA9001tcmpG4Oa1Vrm3jXHqWbpXp5sfuperPV8rNmuN42lXrw7me4ib+OGJeoJZVcP0WtfpThYDdkOIhkftfUsamdISucHB4V2gm21ao6MNXhrM5wbUKq1lY/dmNWs6r6McyU9JJTZ+6kyXC9oXc0GE9luM75V6ddHaKb4fp5rl1imE/SskruTMHKcLAbMhxEMrtrQgbqjHynrerkp5DhJp+uFn/uBabh8pC6BsI+q7XdCbzCGTLcYKhebdA5jSbtjQwORxLmVnJ5J9AL6DIc7IYMB5HM7prBhFnX5KpOsBs9MO0t6cy3dUfTapJswjByrZye4YZBc7Wws8PwqSkyXIrmVfLagF7xxByWk+EgktldM5WBymepa1Z189PmDLf6ePmRdhANoWrt7MjCDDfc4WqD4Txc/SmSJ8NBImQ4iGR+14SU0w039XBYRLF6zmxqVfnjKRmu+vHyjYPwzzaWhfm5fjQ8vtOsXZrhJk6yGra7O6z+pr3h/OS4n1BJxtbX/1HZAIvIcBDJkq4JkWigjkRTq9r4dWqGaz/en8yro+FAOOL6DFcLO5/KcAPNEfs7nPrrDP4KJEKGg0TIcBDJ0q7p5qTBg6e1q07PcPVnJ0JS2LKxCm2TGa6eugumM1yR2DrbdCPjeIfdv84gXJIQGQ4SIcNBJLqGPKhkSIQMB5HoGvKgkiERMhxEomvIg0qGRMhwEImuIQ8qGRIhw0EkuoY8qGRIhAwHkega8qCSIREyHESia8iDSoZEyHAQia4hDyoZEiHDQSS6hjyoZEiEDAeR6BryoJIhETIcRKJryINKhkTIcBCJriEPKhkSIcNBJLqGPKhkSMTyDAcAwDkaxLOCeTjYPV1DHlQyJEKGg0h0DXlQyZAIGQ4i0TXkQSVDImQ4iETXkAeVDImQ4SASXUMeVDIkQoaDSHQNeVDJkAgZDiLRNeRBJUMiZDiIRNeQB5UMiZDhIBJdQx5UMiRChoNIdA15UMmQCBkOItE15EElQyJkOIhE15AHlQyJkOEgEl1DHlQyJEKGg0h0DXlQyZCIeBnu5PrVCxcvDewfDjcbuXNw+dKFyzdOhssXONovD3rtdm9h2P9w4X/e3isWXj043uHRO45vXLl46cr1O8PlZG3hyBeqpWiWrQrm8NrZ2g1OtzTDVVfgmmqE7Z1zhguG+alvlymqOof+taO+rEws3Dva7dFXZLiH0qKRbzXsyXAkYkklhwoccA2ELUXOcFcPjrsLm/Fp5yFpnXF4aq4s44VhwJPh2JnFI98OSkWGY3fmV3J9qV9Vcj27PBgRgHnON8OVwlPLaKNLuJR0Mll1Vlf6Qa1zqjIcO7M4w+2gO2Q4dmd2JYfyC082TlsIzHH+Ga6+Ias6uRlpqmDXf5oZ/jA5k9dkrHCI8MF2hyNhz+3T27DPvaPwwf7Cep/Nn+u7xtIwe3VWjZ4Lrx6E9c5chnsoze2augsa+/9tMOZ1C7VU1X8d1LplWWwjw7E7iyp5fPEf3lEDcyWQ4bpDUXVn1upluKnosxqZwmbdz9Yfb7Zs9Qaz8iJS/jnsubuwOcrUbjtjYS811poYN/i7lJq/vgz3UNo2wx32Q1ud0tqeWt9HjbZuYRszK7m6ik6899y/owZmSybDVZ1cjz3dzbrjVn8Mqy4BnUGrN0SVS6YOV418VbxbbRPuCFcL211V59aJg9UZ1j92PlVr89/wVOsl1cYy3ENpQdcMCrvXRFUptoW0KqpQlt12qNOeDMduyHCQiGQyXCeK9cNNPwx1h7ROEhrMWLSmctJqh+UpNXtu42A4z/ayMr76DM92QrG2GTVHwq5kuIfS9hluWPN7R/26Df01WV2D/cAWZDhIRAIZroo7E3NglX6G60x9dXZYXSMmTOakcOEoPlh+arVBeeh6Yedwgx97S8IJ9A5XK9aui3cy3ENsBxluVX5lI5TLyw3KomrD3HRcCyUnw7ETcyu5ueQOloeLee/qCsxz/hkutHczukwMP8MU1dy6heXNc8zVAHYW1VGu90e1apALCzvpalOGC/uZ+BuVNg+ZMtxDaRcZrumj603t1ZXWPsRfU12TwQ4WmV3Jofzay/WmhcAc55vh6hd3ViFpYqQZpahO2FptOb4cHN9ZH+ma4/am8cOByoXdk9yY4er99HZyUn+22lvv73ty3AyrMtxDaScZriqeslDrIhzXbV3eq081H5Hh2In5lVzX5OqiV9fkYEQA5omc4co2HulkoLNkuNWgNZnAetbkpGbj3m7bMxztdm2GW/OXqtZWsXIo7FyGeyjtJsM11dvWT12E3Sqdrj0Zjt1YXMkDroGwpXPOcMNB5UwZrt7VuP/7h+hGsaHpPVRXmd7c/ikZrtTOiwT9k28n/Eqrw8lwD6UdZbiqejsTGJPl1C3LoqSn9gPLLKnkUvd6aAYOdiBehoOHnK4hDyoZEiHDQSS6hjyoZEiEDAeR6BryoJIhETIcRKJryINKhkTIcBCJriEPKhkSIcNBJLqGPKhkSIQMB5HoGvKgkiERMhxEomvIg0qGRMhwEImuIQ8qGRIhw0EkuoY8qGRIhAwHkega8qCSIREyHESia8iDSoZEyHAQia4hDyoZErE8wwEAcI4G8axgHg52T9eQB5UMiZDhIBJdQx5UMiRChoNIdA15UMmQCBkOItE15EElQyJkOIhE15AHlQyJkOEgEl1DHlQyJEKGg0h0DXlQyZAIGQ4i0TXkQSVDImQ4iETXkAeVDImQ4SASXUMeVDIkQoaDSHQNeVDJkAgZDiLRNeRBJUMiZDiIRNeQB5UMiZDhIBJdQx5UMiRChoNIzrlrDq9duHhp/3C0HGZaXMm39y5duHzjZLQcWEaGg0hkOPKwsJKPb1y5KMPBLslwEIkMRx7mVXIV3VoyHOyODAeRyHDkQYaDRMhwEMmCrinfH7p47fanR/th/Nv/b2UOu7B31Gxw5+Byb1A8uX613KwKat2xs9hGhmNHll7/QxnLcLA7MhxEsjTDrewf9kNbndKuHhxX23fWhsQ2JsOxPRkOEiHDQSTLM1xn2AszbU1oa4Lalet3yh9DpAt/bubt2sTWzMnJcGxPhoNEyHAQydIM106zBaugFtbuHZX/DOPiKt51tlnxLJUdkeEgETIcRLI0w1273VvYPjAtR8Qyk5XhrNymDXPTcS0EOxmO7clwkAgZDiLZUYZr5tuuF0FtNeu2f1gOkKOHqp0PmodjR2Q4SIQMB5HsKsNVEa0IZM1wGGbmyiXtU9cwWHYTW/MRGY7tyXCQCBkOItlZhmtCWzvTVv1Kkd7o2HzdYUCGY3syHCRChoNIdpfh+t9OLUw+PG2n6wp7R56lsisyHCRChoNIdA15UMmQCBkOItE15EElQyJkOIhE15AHlQyJkOEgEl1DHlQyJEKGg0h0DXlQyZAIGQ4i0TXkQSVDImQ4iETXkAeVDImQ4SASXUMeVDIkQoaDSHQNeVDJkAgZDiLRNeRBJUMiZDiIRNeQB5UMiZDhIBJdQx5UMiRChoNIdA15UMmQiOUZDgCAczSIZwXzcLB7uoY8qGRIhAwHkega8qCSIREyHESia8iDSoZEyHAQia4hDyoZEiHDQSS6hjyoZEiEDAeR6BryoJIhETIcRKJryINKhkTIcBCJriEPKhkSIcNBJLqGPKhkSIQMB5HoGvKgkiERMhxEomvIg0qGRMhwEImuIQ8qGRIhw0EkuoY8qGRIhAwHkega8qCSIREyHESybdccXrtw8dKFi1cPjker5gq72j8cLYczWFbJt/eK6m1cvnEy2gCYS4aDSLbrmqP9evyT4Thn8yu5rd6ua7eHmwHzyHAQyTZdU85hXL5x+/pVGY5zN7eST8q6vXRh76hZcufgchnjrly/024DLCDDQSTLu6aMXGV0C2OhDMc5m1vJ4Slqf9bt+MaVXqoDlpDhIJKlXVM+h6pmLHoZLuSw4dxG5zWjavKjDmrVkFkptpHh2MLMSq5m3QZPTsPTVW/FwXZkOIhkWddUT1Groa4/D9cPbXVKm1pbpb0RGY5lFlXynZPu/HEoVxUIW5LhIJIlXVPGr9UExuBZ6sS0XPuOURgjw5/r18lX42UzJ2cEZZntr//dOxNgMRkOIpnfNWX86iatQYbrBLUwKO4dtUPjasvONiuepbKFLa//AhzsigwHkcztmnKoa557TijfhGsfmDZpr5m3Ww2Tk3HNkyy2sMX1P1SsrzLAjshwEMl9yHDNfNv1IqitZt32D1dfgzAPx84tvP5PliKwBRkOItm+a4bPUgthXCwjXf1wqvoOYKHdzPtw7NiSSi5vG/qlC2xNhoNI7kuGa0JbO70Rtum/bxRm3cZkOJaZW8nrZ5T9rxpgKzIcRHJ/Mtxo4eQTq3a6rrB35Fkq25hZye3c8JgMB1uR4SASXUMeVDIkQoaDSHQNeVDJkAgZDiLRNeRBJUMiZDiIRNeQB5UMiZDhIBJdQx5UMiRChoNIdA15UMmQCBkOItE15EElQyJkOIhE15AHlQyJkOEgEl1DHlQyJEKGg0h0DXlQyZAIGQ4i0TXkQSVDImQ4iETXkAeVDImQ4SASXUMeVDIkYnmGAwDgHA3i2aef/uf/BTJkASmN+thCAAAAAElFTkSuQmCC)"
   ]
  },
  {
   "cell_type": "markdown",
   "metadata": {
    "id": "_B6VjplTSx1l"
   },
   "source": [
    "![image.png](data:image/png;base64,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)"
   ]
  },
  {
   "cell_type": "markdown",
   "metadata": {
    "id": "ugoOLkSeS7Di"
   },
   "source": [
    "# User Space"
   ]
  },
  {
   "cell_type": "code",
   "execution_count": 139,
   "metadata": {
    "colab": {
     "base_uri": "https://localhost:8080/"
    },
    "id": "-rB6W0XhwuOW",
    "outputId": "be604342-4df8-4e46-98fb-9c247d9cad8f"
   },
   "outputs": [
    {
     "name": "stdout",
     "output_type": "stream",
     "text": [
      "!!! ENTER THE FOLLOWING CAR DETAILS TO GET THE ESTIMATED PRICE !!!\n",
      "1. FUEL TYPE :\n",
      " a. Gas : 0 \n",
      " b. Diesel : 1\n",
      "Enter your choice : 0\n",
      "2. ASPIRATION :\n",
      " a. STD : 0 \n",
      " b. Turbo : 1\n",
      "Enter your choice : 1\n",
      "3. CAR BODY :\n",
      " a. Sedan : 0 \n",
      " b. Hatchback : 1 \n",
      " c. Wagon : 2 \n",
      " d. Hardtop : 3 \n",
      " e. Convertible : 4\n",
      "Enter your choice : 4\n",
      "4. DRIVE WHEEL :\n",
      " a. Forward Wheel Drive : 0 \n",
      " b. Reverse Wheel Drive : 1 \n",
      " c. 4 Wheel Drive : 2\n",
      "Enter your choice : 2\n",
      "5. CAR WIDTH\n",
      "Enter your choice : 75\n",
      "5. CURB WEIGHT\n",
      "Enter your choice : 3000\n",
      "3. ENGINE TYPE :\n",
      " a. ohc : 0 \n",
      " b. ohcf : 1 \n",
      " c. ohcv : 2 \n",
      " d. dohc : 3 \n",
      " e. l : 4 \n",
      " f. rotor : 5 \n",
      " g. dohcv : 6\n",
      "Enter your choice : 4\n",
      "3. CYLINDER NUMBERS :\n",
      " a. four : 0 \n",
      " b. six : 1 \n",
      " c. five : 2 \n",
      " d. eight : 3 \n",
      " e. two : 4 \n",
      " f. three : 5 \n",
      " g. twelve : 6\n",
      "Enter your choice : 6\n"
     ]
    }
   ],
   "source": [
    "print(\"!!! ENTER THE FOLLOWING CAR DETAILS TO GET THE ESTIMATED PRICE !!!\")\n",
    "print(\"1. FUEL TYPE :\\n a. Gas : 0 \\n b. Diesel : 1\")\n",
    "fuel = int(input(\"Enter your choice : \"))\n",
    "\n",
    "print(\"2. ASPIRATION :\\n a. STD : 0 \\n b. Turbo : 1\")\n",
    "aspiration = int(input(\"Enter your choice : \"))\n",
    "\n",
    "print(\"3. CAR BODY :\\n a. Sedan : 0 \\n b. Hatchback : 1 \\n c. Wagon : 2 \\n d. Hardtop : 3 \\n e. Convertible : 4\")\n",
    "car_body = int(input(\"Enter your choice : \"))\n",
    "\n",
    "print(\"4. DRIVE WHEEL :\\n a. Forward Wheel Drive : 0 \\n b. Reverse Wheel Drive : 1 \\n c. 4 Wheel Drive : 2\")\n",
    "drive_wheel = int(input(\"Enter your choice : \"))\n",
    "\n",
    "print(\"5. CAR WIDTH\")\n",
    "car_width = int(input(\"Enter your choice : \"))\n",
    "\n",
    "print(\"5. CURB WEIGHT\")\n",
    "curb_weight = int(input(\"Enter your choice : \"))\n",
    "\n",
    "print(\"3. ENGINE TYPE :\\n a. ohc : 0 \\n b. ohcf : 1 \\n c. ohcv : 2 \\n d. dohc : 3 \\n e. l : 4 \\n f. rotor : 5 \\n g. dohcv : 6\")\n",
    "engine_type = int(input(\"Enter your choice : \"))\n",
    "\n",
    "print(\"3. CYLINDER NUMBERS :\\n a. four : 0 \\n b. six : 1 \\n c. five : 2 \\n d. eight : 3 \\n e. two : 4 \\n f. three : 5 \\n g. twelve : 6\")\n",
    "cylinder_no = int(input(\"Enter your choice : \"))\n",
    "\n",
    "\n",
    "features_list = [fuel, aspiration, car_body, drive_wheel,car_width, curb_weight, engine_type, cylinder_no]\n",
    "\n",
    "features_arr = np.array(features_list).reshape(1, -1)\n",
    "\n",
    "\n",
    "pred = loaded_model.predict(features_arr)\n",
    "\n",
    "print(\"THE ESTIMATED PRICE OF THE CAR AS PER YOUR SPECS IS : \")\n",
    "print(\"${:.2f}\".format(float(pred)))\n"
   ]
  },
  {
   "cell_type": "code",
   "execution_count": null,
   "metadata": {
    "id": "I-GAVPR_TW1Q"
   },
   "outputs": [],
   "source": []
  },
  {
   "cell_type": "code",
   "execution_count": null,
   "metadata": {
    "id": "BdoXbyTLdQOP"
   },
   "outputs": [],
   "source": []
  }
 ],
 "metadata": {
  "colab": {
   "provenance": []
  },
  "gpuClass": "standard",
  "kernelspec": {
   "display_name": "Python 3 (ipykernel)",
   "language": "python",
   "name": "python3"
  },
  "language_info": {
   "codemirror_mode": {
    "name": "ipython",
    "version": 3
   },
   "file_extension": ".py",
   "mimetype": "text/x-python",
   "name": "python",
   "nbconvert_exporter": "python",
   "pygments_lexer": "ipython3",
   "version": "3.10.5"
  }
 },
 "nbformat": 4,
 "nbformat_minor": 1
}
